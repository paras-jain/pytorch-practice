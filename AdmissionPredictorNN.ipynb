{
  "nbformat": 4,
  "nbformat_minor": 0,
  "metadata": {
    "colab": {
      "name": "AdmissionPredictorNN.ipynb",
      "provenance": [],
      "collapsed_sections": [],
      "toc_visible": true,
      "authorship_tag": "ABX9TyNlnMoq52XtZBL2jX/FcIYh"
    },
    "kernelspec": {
      "name": "python3",
      "display_name": "Python 3"
    }
  },
  "cells": [
    {
      "cell_type": "code",
      "metadata": {
        "id": "KWRAbsYfeuQn",
        "colab_type": "code",
        "outputId": "67dc3c10-c34c-4fc5-fe46-d89eb7499296",
        "colab": {
          "base_uri": "https://localhost:8080/",
          "height": 73
        }
      },
      "source": [
        "import torch\n",
        "\n",
        "import pandas as pd\n",
        "import numpy as np\n",
        "\n",
        "import matplotlib.pyplot as plt\n",
        "import seaborn as sns"
      ],
      "execution_count": 1,
      "outputs": [
        {
          "output_type": "stream",
          "text": [
            "/usr/local/lib/python3.6/dist-packages/statsmodels/tools/_testing.py:19: FutureWarning: pandas.util.testing is deprecated. Use the functions in the public API at pandas.testing instead.\n",
            "  import pandas.util.testing as tm\n"
          ],
          "name": "stderr"
        }
      ]
    },
    {
      "cell_type": "code",
      "metadata": {
        "id": "6tkM3eZGfObT",
        "colab_type": "code",
        "outputId": "ae73e9d8-8b1f-4844-b16d-35f31b4db3f7",
        "colab": {
          "base_uri": "https://localhost:8080/",
          "height": 237
        }
      },
      "source": [
        "data = pd.read_csv('Admission_Predict.csv', index_col=0)\n",
        "data.head()"
      ],
      "execution_count": 3,
      "outputs": [
        {
          "output_type": "execute_result",
          "data": {
            "text/html": [
              "<div>\n",
              "<style scoped>\n",
              "    .dataframe tbody tr th:only-of-type {\n",
              "        vertical-align: middle;\n",
              "    }\n",
              "\n",
              "    .dataframe tbody tr th {\n",
              "        vertical-align: top;\n",
              "    }\n",
              "\n",
              "    .dataframe thead th {\n",
              "        text-align: right;\n",
              "    }\n",
              "</style>\n",
              "<table border=\"1\" class=\"dataframe\">\n",
              "  <thead>\n",
              "    <tr style=\"text-align: right;\">\n",
              "      <th></th>\n",
              "      <th>GRE Score</th>\n",
              "      <th>TOEFL Score</th>\n",
              "      <th>University Rating</th>\n",
              "      <th>SOP</th>\n",
              "      <th>LOR</th>\n",
              "      <th>CGPA</th>\n",
              "      <th>Research</th>\n",
              "      <th>Chance of Admit</th>\n",
              "    </tr>\n",
              "    <tr>\n",
              "      <th>Serial No.</th>\n",
              "      <th></th>\n",
              "      <th></th>\n",
              "      <th></th>\n",
              "      <th></th>\n",
              "      <th></th>\n",
              "      <th></th>\n",
              "      <th></th>\n",
              "      <th></th>\n",
              "    </tr>\n",
              "  </thead>\n",
              "  <tbody>\n",
              "    <tr>\n",
              "      <th>1</th>\n",
              "      <td>337</td>\n",
              "      <td>118</td>\n",
              "      <td>4</td>\n",
              "      <td>4.5</td>\n",
              "      <td>4.5</td>\n",
              "      <td>9.65</td>\n",
              "      <td>1</td>\n",
              "      <td>0.92</td>\n",
              "    </tr>\n",
              "    <tr>\n",
              "      <th>2</th>\n",
              "      <td>324</td>\n",
              "      <td>107</td>\n",
              "      <td>4</td>\n",
              "      <td>4.0</td>\n",
              "      <td>4.5</td>\n",
              "      <td>8.87</td>\n",
              "      <td>1</td>\n",
              "      <td>0.76</td>\n",
              "    </tr>\n",
              "    <tr>\n",
              "      <th>3</th>\n",
              "      <td>316</td>\n",
              "      <td>104</td>\n",
              "      <td>3</td>\n",
              "      <td>3.0</td>\n",
              "      <td>3.5</td>\n",
              "      <td>8.00</td>\n",
              "      <td>1</td>\n",
              "      <td>0.72</td>\n",
              "    </tr>\n",
              "    <tr>\n",
              "      <th>4</th>\n",
              "      <td>322</td>\n",
              "      <td>110</td>\n",
              "      <td>3</td>\n",
              "      <td>3.5</td>\n",
              "      <td>2.5</td>\n",
              "      <td>8.67</td>\n",
              "      <td>1</td>\n",
              "      <td>0.80</td>\n",
              "    </tr>\n",
              "    <tr>\n",
              "      <th>5</th>\n",
              "      <td>314</td>\n",
              "      <td>103</td>\n",
              "      <td>2</td>\n",
              "      <td>2.0</td>\n",
              "      <td>3.0</td>\n",
              "      <td>8.21</td>\n",
              "      <td>0</td>\n",
              "      <td>0.65</td>\n",
              "    </tr>\n",
              "  </tbody>\n",
              "</table>\n",
              "</div>"
            ],
            "text/plain": [
              "            GRE Score  TOEFL Score  ...  Research  Chance of Admit \n",
              "Serial No.                          ...                            \n",
              "1                 337          118  ...         1              0.92\n",
              "2                 324          107  ...         1              0.76\n",
              "3                 316          104  ...         1              0.72\n",
              "4                 322          110  ...         1              0.80\n",
              "5                 314          103  ...         0              0.65\n",
              "\n",
              "[5 rows x 8 columns]"
            ]
          },
          "metadata": {
            "tags": []
          },
          "execution_count": 3
        }
      ]
    },
    {
      "cell_type": "code",
      "metadata": {
        "id": "9Yb8b2rFfhNj",
        "colab_type": "code",
        "outputId": "5023441a-5dee-442c-fc91-03f535e49a1a",
        "colab": {
          "base_uri": "https://localhost:8080/",
          "height": 35
        }
      },
      "source": [
        "data.shape"
      ],
      "execution_count": 4,
      "outputs": [
        {
          "output_type": "execute_result",
          "data": {
            "text/plain": [
              "(400, 8)"
            ]
          },
          "metadata": {
            "tags": []
          },
          "execution_count": 4
        }
      ]
    },
    {
      "cell_type": "code",
      "metadata": {
        "id": "hv3oA4QkfwAk",
        "colab_type": "code",
        "outputId": "03e59d28-63c8-4c00-9338-d87f7bea74b9",
        "colab": {
          "base_uri": "https://localhost:8080/",
          "height": 300
        }
      },
      "source": [
        "data.describe()"
      ],
      "execution_count": 5,
      "outputs": [
        {
          "output_type": "execute_result",
          "data": {
            "text/html": [
              "<div>\n",
              "<style scoped>\n",
              "    .dataframe tbody tr th:only-of-type {\n",
              "        vertical-align: middle;\n",
              "    }\n",
              "\n",
              "    .dataframe tbody tr th {\n",
              "        vertical-align: top;\n",
              "    }\n",
              "\n",
              "    .dataframe thead th {\n",
              "        text-align: right;\n",
              "    }\n",
              "</style>\n",
              "<table border=\"1\" class=\"dataframe\">\n",
              "  <thead>\n",
              "    <tr style=\"text-align: right;\">\n",
              "      <th></th>\n",
              "      <th>GRE Score</th>\n",
              "      <th>TOEFL Score</th>\n",
              "      <th>University Rating</th>\n",
              "      <th>SOP</th>\n",
              "      <th>LOR</th>\n",
              "      <th>CGPA</th>\n",
              "      <th>Research</th>\n",
              "      <th>Chance of Admit</th>\n",
              "    </tr>\n",
              "  </thead>\n",
              "  <tbody>\n",
              "    <tr>\n",
              "      <th>count</th>\n",
              "      <td>400.000000</td>\n",
              "      <td>400.000000</td>\n",
              "      <td>400.000000</td>\n",
              "      <td>400.000000</td>\n",
              "      <td>400.000000</td>\n",
              "      <td>400.000000</td>\n",
              "      <td>400.000000</td>\n",
              "      <td>400.000000</td>\n",
              "    </tr>\n",
              "    <tr>\n",
              "      <th>mean</th>\n",
              "      <td>316.807500</td>\n",
              "      <td>107.410000</td>\n",
              "      <td>3.087500</td>\n",
              "      <td>3.400000</td>\n",
              "      <td>3.452500</td>\n",
              "      <td>8.598925</td>\n",
              "      <td>0.547500</td>\n",
              "      <td>0.724350</td>\n",
              "    </tr>\n",
              "    <tr>\n",
              "      <th>std</th>\n",
              "      <td>11.473646</td>\n",
              "      <td>6.069514</td>\n",
              "      <td>1.143728</td>\n",
              "      <td>1.006869</td>\n",
              "      <td>0.898478</td>\n",
              "      <td>0.596317</td>\n",
              "      <td>0.498362</td>\n",
              "      <td>0.142609</td>\n",
              "    </tr>\n",
              "    <tr>\n",
              "      <th>min</th>\n",
              "      <td>290.000000</td>\n",
              "      <td>92.000000</td>\n",
              "      <td>1.000000</td>\n",
              "      <td>1.000000</td>\n",
              "      <td>1.000000</td>\n",
              "      <td>6.800000</td>\n",
              "      <td>0.000000</td>\n",
              "      <td>0.340000</td>\n",
              "    </tr>\n",
              "    <tr>\n",
              "      <th>25%</th>\n",
              "      <td>308.000000</td>\n",
              "      <td>103.000000</td>\n",
              "      <td>2.000000</td>\n",
              "      <td>2.500000</td>\n",
              "      <td>3.000000</td>\n",
              "      <td>8.170000</td>\n",
              "      <td>0.000000</td>\n",
              "      <td>0.640000</td>\n",
              "    </tr>\n",
              "    <tr>\n",
              "      <th>50%</th>\n",
              "      <td>317.000000</td>\n",
              "      <td>107.000000</td>\n",
              "      <td>3.000000</td>\n",
              "      <td>3.500000</td>\n",
              "      <td>3.500000</td>\n",
              "      <td>8.610000</td>\n",
              "      <td>1.000000</td>\n",
              "      <td>0.730000</td>\n",
              "    </tr>\n",
              "    <tr>\n",
              "      <th>75%</th>\n",
              "      <td>325.000000</td>\n",
              "      <td>112.000000</td>\n",
              "      <td>4.000000</td>\n",
              "      <td>4.000000</td>\n",
              "      <td>4.000000</td>\n",
              "      <td>9.062500</td>\n",
              "      <td>1.000000</td>\n",
              "      <td>0.830000</td>\n",
              "    </tr>\n",
              "    <tr>\n",
              "      <th>max</th>\n",
              "      <td>340.000000</td>\n",
              "      <td>120.000000</td>\n",
              "      <td>5.000000</td>\n",
              "      <td>5.000000</td>\n",
              "      <td>5.000000</td>\n",
              "      <td>9.920000</td>\n",
              "      <td>1.000000</td>\n",
              "      <td>0.970000</td>\n",
              "    </tr>\n",
              "  </tbody>\n",
              "</table>\n",
              "</div>"
            ],
            "text/plain": [
              "        GRE Score  TOEFL Score  ...    Research  Chance of Admit \n",
              "count  400.000000   400.000000  ...  400.000000        400.000000\n",
              "mean   316.807500   107.410000  ...    0.547500          0.724350\n",
              "std     11.473646     6.069514  ...    0.498362          0.142609\n",
              "min    290.000000    92.000000  ...    0.000000          0.340000\n",
              "25%    308.000000   103.000000  ...    0.000000          0.640000\n",
              "50%    317.000000   107.000000  ...    1.000000          0.730000\n",
              "75%    325.000000   112.000000  ...    1.000000          0.830000\n",
              "max    340.000000   120.000000  ...    1.000000          0.970000\n",
              "\n",
              "[8 rows x 8 columns]"
            ]
          },
          "metadata": {
            "tags": []
          },
          "execution_count": 5
        }
      ]
    },
    {
      "cell_type": "code",
      "metadata": {
        "id": "dWnd5ID-ixMb",
        "colab_type": "code",
        "outputId": "b34221c5-c503-4bfc-b705-1cb9b5c94a3a",
        "colab": {
          "base_uri": "https://localhost:8080/",
          "height": 128
        }
      },
      "source": [
        "!pip3 install --upgrade pandas"
      ],
      "execution_count": 6,
      "outputs": [
        {
          "output_type": "stream",
          "text": [
            "Requirement already up-to-date: pandas in /usr/local/lib/python3.6/dist-packages (1.0.3)\n",
            "Requirement already satisfied, skipping upgrade: numpy>=1.13.3 in /usr/local/lib/python3.6/dist-packages (from pandas) (1.18.2)\n",
            "Requirement already satisfied, skipping upgrade: python-dateutil>=2.6.1 in /usr/local/lib/python3.6/dist-packages (from pandas) (2.8.1)\n",
            "Requirement already satisfied, skipping upgrade: pytz>=2017.2 in /usr/local/lib/python3.6/dist-packages (from pandas) (2018.9)\n",
            "Requirement already satisfied, skipping upgrade: six>=1.5 in /usr/local/lib/python3.6/dist-packages (from python-dateutil>=2.6.1->pandas) (1.12.0)\n"
          ],
          "name": "stdout"
        }
      ]
    },
    {
      "cell_type": "code",
      "metadata": {
        "id": "UiA1Bb3afx3w",
        "colab_type": "code",
        "outputId": "349e166f-187c-43df-de1e-43763e0686e3",
        "colab": {
          "base_uri": "https://localhost:8080/",
          "height": 206
        }
      },
      "source": [
        "data = data.rename(index=str, columns={\"Chance of Admit \" : \"admit_probability\"})\n",
        "data = data.reset_index()\n",
        "\n",
        "data = data[['GRE Score', 'TOEFL Score', 'University Rating', 'LOR', 'SOP', 'CGPA', 'Research', 'admit_probability']]\n",
        "data.head()"
      ],
      "execution_count": 7,
      "outputs": [
        {
          "output_type": "execute_result",
          "data": {
            "text/html": [
              "<div>\n",
              "<style scoped>\n",
              "    .dataframe tbody tr th:only-of-type {\n",
              "        vertical-align: middle;\n",
              "    }\n",
              "\n",
              "    .dataframe tbody tr th {\n",
              "        vertical-align: top;\n",
              "    }\n",
              "\n",
              "    .dataframe thead th {\n",
              "        text-align: right;\n",
              "    }\n",
              "</style>\n",
              "<table border=\"1\" class=\"dataframe\">\n",
              "  <thead>\n",
              "    <tr style=\"text-align: right;\">\n",
              "      <th></th>\n",
              "      <th>GRE Score</th>\n",
              "      <th>TOEFL Score</th>\n",
              "      <th>University Rating</th>\n",
              "      <th>LOR</th>\n",
              "      <th>SOP</th>\n",
              "      <th>CGPA</th>\n",
              "      <th>Research</th>\n",
              "      <th>admit_probability</th>\n",
              "    </tr>\n",
              "  </thead>\n",
              "  <tbody>\n",
              "    <tr>\n",
              "      <th>0</th>\n",
              "      <td>337</td>\n",
              "      <td>118</td>\n",
              "      <td>4</td>\n",
              "      <td>4.5</td>\n",
              "      <td>4.5</td>\n",
              "      <td>9.65</td>\n",
              "      <td>1</td>\n",
              "      <td>0.92</td>\n",
              "    </tr>\n",
              "    <tr>\n",
              "      <th>1</th>\n",
              "      <td>324</td>\n",
              "      <td>107</td>\n",
              "      <td>4</td>\n",
              "      <td>4.5</td>\n",
              "      <td>4.0</td>\n",
              "      <td>8.87</td>\n",
              "      <td>1</td>\n",
              "      <td>0.76</td>\n",
              "    </tr>\n",
              "    <tr>\n",
              "      <th>2</th>\n",
              "      <td>316</td>\n",
              "      <td>104</td>\n",
              "      <td>3</td>\n",
              "      <td>3.5</td>\n",
              "      <td>3.0</td>\n",
              "      <td>8.00</td>\n",
              "      <td>1</td>\n",
              "      <td>0.72</td>\n",
              "    </tr>\n",
              "    <tr>\n",
              "      <th>3</th>\n",
              "      <td>322</td>\n",
              "      <td>110</td>\n",
              "      <td>3</td>\n",
              "      <td>2.5</td>\n",
              "      <td>3.5</td>\n",
              "      <td>8.67</td>\n",
              "      <td>1</td>\n",
              "      <td>0.80</td>\n",
              "    </tr>\n",
              "    <tr>\n",
              "      <th>4</th>\n",
              "      <td>314</td>\n",
              "      <td>103</td>\n",
              "      <td>2</td>\n",
              "      <td>3.0</td>\n",
              "      <td>2.0</td>\n",
              "      <td>8.21</td>\n",
              "      <td>0</td>\n",
              "      <td>0.65</td>\n",
              "    </tr>\n",
              "  </tbody>\n",
              "</table>\n",
              "</div>"
            ],
            "text/plain": [
              "   GRE Score  TOEFL Score  University Rating  ...  CGPA  Research  admit_probability\n",
              "0        337          118                  4  ...  9.65         1               0.92\n",
              "1        324          107                  4  ...  8.87         1               0.76\n",
              "2        316          104                  3  ...  8.00         1               0.72\n",
              "3        322          110                  3  ...  8.67         1               0.80\n",
              "4        314          103                  2  ...  8.21         0               0.65\n",
              "\n",
              "[5 rows x 8 columns]"
            ]
          },
          "metadata": {
            "tags": []
          },
          "execution_count": 7
        }
      ]
    },
    {
      "cell_type": "code",
      "metadata": {
        "id": "GSWnEB3egrRy",
        "colab_type": "code",
        "outputId": "7e758766-bc73-4486-8276-7d79ed8d31c1",
        "colab": {
          "base_uri": "https://localhost:8080/",
          "height": 513
        }
      },
      "source": [
        "plt.figure(figsize = (8,8))\n",
        "fig = sns.regplot(x='GRE Score', y='TOEFL Score', data=data)\n",
        "plt.title(\"GRE v/s TOEFL Score\")\n",
        "plt.show(fig)"
      ],
      "execution_count": 8,
      "outputs": [
        {
          "output_type": "display_data",
          "data": {
            "image/png": "[encoded data removed]",
            "text/plain": [
              "<Figure size 576x576 with 1 Axes>"
            ]
          },
          "metadata": {
            "tags": [],
            "needs_background": "light"
          }
        }
      ]
    },
    {
      "cell_type": "code",
      "metadata": {
        "id": "YKnNpLs9kkuP",
        "colab_type": "code",
        "outputId": "c77d5569-a383-4ca1-cfe1-1d056930dc4f",
        "colab": {
          "base_uri": "https://localhost:8080/",
          "height": 513
        }
      },
      "source": [
        "plt.figure(figsize = (8,8))\n",
        "fig = sns.regplot(x='GRE Score', y='CGPA', data=data)\n",
        "plt.title(\"GRE Score v/s CGPA\")\n",
        "plt.show(fig)"
      ],
      "execution_count": 9,
      "outputs": [
        {
          "output_type": "display_data",
          "data": {
            "image/png": "[encoded data removed]",
            "text/plain": [
              "<Figure size 576x576 with 1 Axes>"
            ]
          },
          "metadata": {
            "tags": [],
            "needs_background": "light"
          }
        }
      ]
    },
    {
      "cell_type": "code",
      "metadata": {
        "id": "hTtP96Tzlg1s",
        "colab_type": "code",
        "outputId": "95ed8581-b575-4a87-a435-61aedaf8ca7e",
        "colab": {
          "base_uri": "https://localhost:8080/",
          "height": 514
        }
      },
      "source": [
        "plt.figure(figsize = (8,8))\n",
        "fig = sns.scatterplot(x='admit_probability', y='CGPA', data=data, hue='Research')\n",
        "plt.title(\"Scatterplot\")\n",
        "plt.show(fig)"
      ],
      "execution_count": 12,
      "outputs": [
        {
          "output_type": "display_data",
          "data": {
            "image/png": "[encoded data removed]",
            "text/plain": [
              "<Figure size 576x576 with 1 Axes>"
            ]
          },
          "metadata": {
            "tags": [],
            "needs_background": "light"
          }
        }
      ]
    },
    {
      "cell_type": "code",
      "metadata": {
        "id": "NwPubRvXlqsK",
        "colab_type": "code",
        "outputId": "97c6450a-cf14-42c4-db90-88e1db861a15",
        "colab": {
          "base_uri": "https://localhost:8080/",
          "height": 684
        }
      },
      "source": [
        "plt.figure(figsize = (10,10))\n",
        "fig = sns.heatmap(data.corr(), annot=True, linewidths=0.05, fmt='.2f')\n",
        "plt.title(\"Heatmap\")\n",
        "plt.show(fig)"
      ],
      "execution_count": 13,
      "outputs": [
        {
          "output_type": "display_data",
          "data": {
            "image/png": "[encoded data removed]",
            "text/plain": [
              "<Figure size 720x720 with 2 Axes>"
            ]
          },
          "metadata": {
            "tags": [],
            "needs_background": "light"
          }
        }
      ]
    },
    {
      "cell_type": "markdown",
      "metadata": {
        "id": "XiONHwAVp7c2",
        "colab_type": "text"
      },
      "source": [
        "#Data Preprocessing"
      ]
    },
    {
      "cell_type": "code",
      "metadata": {
        "id": "1PyGC_ZsopzU",
        "colab_type": "code",
        "colab": {}
      },
      "source": [
        "from sklearn import preprocessing"
      ],
      "execution_count": 0,
      "outputs": []
    },
    {
      "cell_type": "code",
      "metadata": {
        "id": "AEqJXE3xqClI",
        "colab_type": "code",
        "colab": {}
      },
      "source": [
        "data[['GRE Score', 'TOEFL Score', 'LOR', 'SOP', 'CGPA']] = \\\n",
        "            preprocessing.scale(data[['GRE Score', 'TOEFL Score', 'LOR', 'SOP', 'CGPA']])"
      ],
      "execution_count": 0,
      "outputs": []
    },
    {
      "cell_type": "code",
      "metadata": {
        "id": "hWL4ba0gqdYn",
        "colab_type": "code",
        "outputId": "bc091656-a260-464d-a7a6-3bb29539853f",
        "colab": {
          "base_uri": "https://localhost:8080/",
          "height": 363
        }
      },
      "source": [
        "data.sample(10)"
      ],
      "execution_count": 16,
      "outputs": [
        {
          "output_type": "execute_result",
          "data": {
            "text/html": [
              "<div>\n",
              "<style scoped>\n",
              "    .dataframe tbody tr th:only-of-type {\n",
              "        vertical-align: middle;\n",
              "    }\n",
              "\n",
              "    .dataframe tbody tr th {\n",
              "        vertical-align: top;\n",
              "    }\n",
              "\n",
              "    .dataframe thead th {\n",
              "        text-align: right;\n",
              "    }\n",
              "</style>\n",
              "<table border=\"1\" class=\"dataframe\">\n",
              "  <thead>\n",
              "    <tr style=\"text-align: right;\">\n",
              "      <th></th>\n",
              "      <th>GRE Score</th>\n",
              "      <th>TOEFL Score</th>\n",
              "      <th>University Rating</th>\n",
              "      <th>LOR</th>\n",
              "      <th>SOP</th>\n",
              "      <th>CGPA</th>\n",
              "      <th>Research</th>\n",
              "      <th>admit_probability</th>\n",
              "    </tr>\n",
              "  </thead>\n",
              "  <tbody>\n",
              "    <tr>\n",
              "      <th>387</th>\n",
              "      <td>-0.855855</td>\n",
              "      <td>-0.397564</td>\n",
              "      <td>2</td>\n",
              "      <td>0.052933</td>\n",
              "      <td>-1.392191</td>\n",
              "      <td>-0.837725</td>\n",
              "      <td>0</td>\n",
              "      <td>0.53</td>\n",
              "    </tr>\n",
              "    <tr>\n",
              "      <th>162</th>\n",
              "      <td>0.104064</td>\n",
              "      <td>0.262293</td>\n",
              "      <td>3</td>\n",
              "      <td>-0.504260</td>\n",
              "      <td>-0.397769</td>\n",
              "      <td>-0.166101</td>\n",
              "      <td>0</td>\n",
              "      <td>0.67</td>\n",
              "    </tr>\n",
              "    <tr>\n",
              "      <th>365</th>\n",
              "      <td>1.151249</td>\n",
              "      <td>1.087114</td>\n",
              "      <td>4</td>\n",
              "      <td>-0.504260</td>\n",
              "      <td>1.093864</td>\n",
              "      <td>0.958869</td>\n",
              "      <td>1</td>\n",
              "      <td>0.86</td>\n",
              "    </tr>\n",
              "    <tr>\n",
              "      <th>161</th>\n",
              "      <td>-1.641244</td>\n",
              "      <td>-1.387349</td>\n",
              "      <td>1</td>\n",
              "      <td>-0.504260</td>\n",
              "      <td>-1.889402</td>\n",
              "      <td>-1.912324</td>\n",
              "      <td>0</td>\n",
              "      <td>0.53</td>\n",
              "    </tr>\n",
              "    <tr>\n",
              "      <th>303</th>\n",
              "      <td>0.540391</td>\n",
              "      <td>-0.067635</td>\n",
              "      <td>3</td>\n",
              "      <td>0.052933</td>\n",
              "      <td>0.099442</td>\n",
              "      <td>-0.082148</td>\n",
              "      <td>1</td>\n",
              "      <td>0.73</td>\n",
              "    </tr>\n",
              "    <tr>\n",
              "      <th>58</th>\n",
              "      <td>-1.466713</td>\n",
              "      <td>-1.387349</td>\n",
              "      <td>1</td>\n",
              "      <td>-1.618648</td>\n",
              "      <td>-0.397769</td>\n",
              "      <td>-3.020504</td>\n",
              "      <td>1</td>\n",
              "      <td>0.36</td>\n",
              "    </tr>\n",
              "    <tr>\n",
              "      <th>146</th>\n",
              "      <td>-0.157732</td>\n",
              "      <td>-0.397564</td>\n",
              "      <td>3</td>\n",
              "      <td>-1.061454</td>\n",
              "      <td>-1.392191</td>\n",
              "      <td>-0.199682</td>\n",
              "      <td>0</td>\n",
              "      <td>0.75</td>\n",
              "    </tr>\n",
              "    <tr>\n",
              "      <th>91</th>\n",
              "      <td>-1.553979</td>\n",
              "      <td>-1.717277</td>\n",
              "      <td>3</td>\n",
              "      <td>0.052933</td>\n",
              "      <td>1.591075</td>\n",
              "      <td>-1.576512</td>\n",
              "      <td>0</td>\n",
              "      <td>0.38</td>\n",
              "    </tr>\n",
              "    <tr>\n",
              "      <th>47</th>\n",
              "      <td>1.936637</td>\n",
              "      <td>1.911935</td>\n",
              "      <td>5</td>\n",
              "      <td>0.610127</td>\n",
              "      <td>1.093864</td>\n",
              "      <td>1.848771</td>\n",
              "      <td>0</td>\n",
              "      <td>0.89</td>\n",
              "    </tr>\n",
              "    <tr>\n",
              "      <th>189</th>\n",
              "      <td>0.627656</td>\n",
              "      <td>0.757186</td>\n",
              "      <td>5</td>\n",
              "      <td>1.724515</td>\n",
              "      <td>1.591075</td>\n",
              "      <td>0.807754</td>\n",
              "      <td>1</td>\n",
              "      <td>0.88</td>\n",
              "    </tr>\n",
              "  </tbody>\n",
              "</table>\n",
              "</div>"
            ],
            "text/plain": [
              "     GRE Score  TOEFL Score  ...  Research  admit_probability\n",
              "387  -0.855855    -0.397564  ...         0               0.53\n",
              "162   0.104064     0.262293  ...         0               0.67\n",
              "365   1.151249     1.087114  ...         1               0.86\n",
              "161  -1.641244    -1.387349  ...         0               0.53\n",
              "303   0.540391    -0.067635  ...         1               0.73\n",
              "58   -1.466713    -1.387349  ...         1               0.36\n",
              "146  -0.157732    -0.397564  ...         0               0.75\n",
              "91   -1.553979    -1.717277  ...         0               0.38\n",
              "47    1.936637     1.911935  ...         0               0.89\n",
              "189   0.627656     0.757186  ...         1               0.88\n",
              "\n",
              "[10 rows x 8 columns]"
            ]
          },
          "metadata": {
            "tags": []
          },
          "execution_count": 16
        }
      ]
    },
    {
      "cell_type": "code",
      "metadata": {
        "id": "_3HZX3PXqgQf",
        "colab_type": "code",
        "colab": {}
      },
      "source": [
        "col = ['GRE Score', 'TOEFL Score', 'LOR', 'SOP', 'CGPA', 'Research']\n",
        "\n",
        "features = data[col]"
      ],
      "execution_count": 0,
      "outputs": []
    },
    {
      "cell_type": "code",
      "metadata": {
        "id": "MvScGNqTq0Dj",
        "colab_type": "code",
        "outputId": "74e1a5d4-00d8-4459-b07f-a88df61ef6de",
        "colab": {
          "base_uri": "https://localhost:8080/",
          "height": 206
        }
      },
      "source": [
        "features.head()"
      ],
      "execution_count": 18,
      "outputs": [
        {
          "output_type": "execute_result",
          "data": {
            "text/html": [
              "<div>\n",
              "<style scoped>\n",
              "    .dataframe tbody tr th:only-of-type {\n",
              "        vertical-align: middle;\n",
              "    }\n",
              "\n",
              "    .dataframe tbody tr th {\n",
              "        vertical-align: top;\n",
              "    }\n",
              "\n",
              "    .dataframe thead th {\n",
              "        text-align: right;\n",
              "    }\n",
              "</style>\n",
              "<table border=\"1\" class=\"dataframe\">\n",
              "  <thead>\n",
              "    <tr style=\"text-align: right;\">\n",
              "      <th></th>\n",
              "      <th>GRE Score</th>\n",
              "      <th>TOEFL Score</th>\n",
              "      <th>LOR</th>\n",
              "      <th>SOP</th>\n",
              "      <th>CGPA</th>\n",
              "      <th>Research</th>\n",
              "    </tr>\n",
              "  </thead>\n",
              "  <tbody>\n",
              "    <tr>\n",
              "      <th>0</th>\n",
              "      <td>1.762107</td>\n",
              "      <td>1.746971</td>\n",
              "      <td>1.167321</td>\n",
              "      <td>1.093864</td>\n",
              "      <td>1.764818</td>\n",
              "      <td>1</td>\n",
              "    </tr>\n",
              "    <tr>\n",
              "      <th>1</th>\n",
              "      <td>0.627656</td>\n",
              "      <td>-0.067635</td>\n",
              "      <td>1.167321</td>\n",
              "      <td>0.596653</td>\n",
              "      <td>0.455151</td>\n",
              "      <td>1</td>\n",
              "    </tr>\n",
              "    <tr>\n",
              "      <th>2</th>\n",
              "      <td>-0.070467</td>\n",
              "      <td>-0.562528</td>\n",
              "      <td>0.052933</td>\n",
              "      <td>-0.397769</td>\n",
              "      <td>-1.005631</td>\n",
              "      <td>1</td>\n",
              "    </tr>\n",
              "    <tr>\n",
              "      <th>3</th>\n",
              "      <td>0.453126</td>\n",
              "      <td>0.427257</td>\n",
              "      <td>-1.061454</td>\n",
              "      <td>0.099442</td>\n",
              "      <td>0.119339</td>\n",
              "      <td>1</td>\n",
              "    </tr>\n",
              "    <tr>\n",
              "      <th>4</th>\n",
              "      <td>-0.244998</td>\n",
              "      <td>-0.727492</td>\n",
              "      <td>-0.504260</td>\n",
              "      <td>-1.392191</td>\n",
              "      <td>-0.653029</td>\n",
              "      <td>0</td>\n",
              "    </tr>\n",
              "  </tbody>\n",
              "</table>\n",
              "</div>"
            ],
            "text/plain": [
              "   GRE Score  TOEFL Score       LOR       SOP      CGPA  Research\n",
              "0   1.762107     1.746971  1.167321  1.093864  1.764818         1\n",
              "1   0.627656    -0.067635  1.167321  0.596653  0.455151         1\n",
              "2  -0.070467    -0.562528  0.052933 -0.397769 -1.005631         1\n",
              "3   0.453126     0.427257 -1.061454  0.099442  0.119339         1\n",
              "4  -0.244998    -0.727492 -0.504260 -1.392191 -0.653029         0"
            ]
          },
          "metadata": {
            "tags": []
          },
          "execution_count": 18
        }
      ]
    },
    {
      "cell_type": "code",
      "metadata": {
        "id": "O1YiruP9q5uQ",
        "colab_type": "code",
        "colab": {}
      },
      "source": [
        "target = data[['admit_probability']]"
      ],
      "execution_count": 0,
      "outputs": []
    },
    {
      "cell_type": "code",
      "metadata": {
        "id": "MGv2czmHrB_N",
        "colab_type": "code",
        "colab": {}
      },
      "source": [
        "y = target.copy()"
      ],
      "execution_count": 0,
      "outputs": []
    },
    {
      "cell_type": "code",
      "metadata": {
        "id": "1U62J-6OrG76",
        "colab_type": "code",
        "outputId": "e0e0f410-cb4e-4120-8ee9-9ea23386fe2c",
        "colab": {
          "base_uri": "https://localhost:8080/",
          "height": 424
        }
      },
      "source": [
        "y.replace(to_replace = target[target >= 0.85], value = int(2), inplace=True)\n",
        "y.replace(to_replace = target[target >= 0.65], value = int(1), inplace=True)\n",
        "y.replace(to_replace = target[target < 0.65], value = int(0), inplace=False)"
      ],
      "execution_count": 21,
      "outputs": [
        {
          "output_type": "execute_result",
          "data": {
            "text/html": [
              "<div>\n",
              "<style scoped>\n",
              "    .dataframe tbody tr th:only-of-type {\n",
              "        vertical-align: middle;\n",
              "    }\n",
              "\n",
              "    .dataframe tbody tr th {\n",
              "        vertical-align: top;\n",
              "    }\n",
              "\n",
              "    .dataframe thead th {\n",
              "        text-align: right;\n",
              "    }\n",
              "</style>\n",
              "<table border=\"1\" class=\"dataframe\">\n",
              "  <thead>\n",
              "    <tr style=\"text-align: right;\">\n",
              "      <th></th>\n",
              "      <th>admit_probability</th>\n",
              "    </tr>\n",
              "  </thead>\n",
              "  <tbody>\n",
              "    <tr>\n",
              "      <th>0</th>\n",
              "      <td>2.0</td>\n",
              "    </tr>\n",
              "    <tr>\n",
              "      <th>1</th>\n",
              "      <td>1.0</td>\n",
              "    </tr>\n",
              "    <tr>\n",
              "      <th>2</th>\n",
              "      <td>1.0</td>\n",
              "    </tr>\n",
              "    <tr>\n",
              "      <th>3</th>\n",
              "      <td>1.0</td>\n",
              "    </tr>\n",
              "    <tr>\n",
              "      <th>4</th>\n",
              "      <td>1.0</td>\n",
              "    </tr>\n",
              "    <tr>\n",
              "      <th>...</th>\n",
              "      <td>...</td>\n",
              "    </tr>\n",
              "    <tr>\n",
              "      <th>395</th>\n",
              "      <td>1.0</td>\n",
              "    </tr>\n",
              "    <tr>\n",
              "      <th>396</th>\n",
              "      <td>1.0</td>\n",
              "    </tr>\n",
              "    <tr>\n",
              "      <th>397</th>\n",
              "      <td>2.0</td>\n",
              "    </tr>\n",
              "    <tr>\n",
              "      <th>398</th>\n",
              "      <td>1.0</td>\n",
              "    </tr>\n",
              "    <tr>\n",
              "      <th>399</th>\n",
              "      <td>2.0</td>\n",
              "    </tr>\n",
              "  </tbody>\n",
              "</table>\n",
              "<p>400 rows × 1 columns</p>\n",
              "</div>"
            ],
            "text/plain": [
              "     admit_probability\n",
              "0                  2.0\n",
              "1                  1.0\n",
              "2                  1.0\n",
              "3                  1.0\n",
              "4                  1.0\n",
              "..                 ...\n",
              "395                1.0\n",
              "396                1.0\n",
              "397                2.0\n",
              "398                1.0\n",
              "399                2.0\n",
              "\n",
              "[400 rows x 1 columns]"
            ]
          },
          "metadata": {
            "tags": []
          },
          "execution_count": 21
        }
      ]
    },
    {
      "cell_type": "code",
      "metadata": {
        "id": "GFLAEjF_rkhs",
        "colab_type": "code",
        "colab": {}
      },
      "source": [
        "target = y"
      ],
      "execution_count": 0,
      "outputs": []
    },
    {
      "cell_type": "code",
      "metadata": {
        "id": "CGlU8xvYrn3x",
        "colab_type": "code",
        "outputId": "c8295a98-7c46-4679-d9dd-341f649238fc",
        "colab": {
          "base_uri": "https://localhost:8080/",
          "height": 235
        }
      },
      "source": [
        "target['admit_probability'].unique"
      ],
      "execution_count": 23,
      "outputs": [
        {
          "output_type": "execute_result",
          "data": {
            "text/plain": [
              "<bound method Series.unique of 0      2.0\n",
              "1      1.0\n",
              "2      1.0\n",
              "3      1.0\n",
              "4      1.0\n",
              "      ... \n",
              "395    1.0\n",
              "396    1.0\n",
              "397    2.0\n",
              "398    1.0\n",
              "399    2.0\n",
              "Name: admit_probability, Length: 400, dtype: float64>"
            ]
          },
          "metadata": {
            "tags": []
          },
          "execution_count": 23
        }
      ]
    },
    {
      "cell_type": "code",
      "metadata": {
        "id": "T8PCIEUzrutl",
        "colab_type": "code",
        "colab": {}
      },
      "source": [
        "from sklearn.model_selection import  train_test_split"
      ],
      "execution_count": 0,
      "outputs": []
    },
    {
      "cell_type": "code",
      "metadata": {
        "id": "O5JRZmqEr74q",
        "colab_type": "code",
        "colab": {}
      },
      "source": [
        "X_train, x_test, Y_train, y_test = train_test_split(features, target, test_size=0.2)"
      ],
      "execution_count": 0,
      "outputs": []
    },
    {
      "cell_type": "code",
      "metadata": {
        "id": "wDoseJgYsIK0",
        "colab_type": "code",
        "colab": {}
      },
      "source": [
        "xtrain = torch.from_numpy(X_train.values).float()\n",
        "xtest = torch.from_numpy(x_test.values).float()"
      ],
      "execution_count": 0,
      "outputs": []
    },
    {
      "cell_type": "code",
      "metadata": {
        "id": "P8xHDxl5sphm",
        "colab_type": "code",
        "outputId": "d50a6855-8f67-4cc7-8552-d92777f7309b",
        "colab": {
          "base_uri": "https://localhost:8080/",
          "height": 35
        }
      },
      "source": [
        "xtrain.shape"
      ],
      "execution_count": 78,
      "outputs": [
        {
          "output_type": "execute_result",
          "data": {
            "text/plain": [
              "torch.Size([320, 6])"
            ]
          },
          "metadata": {
            "tags": []
          },
          "execution_count": 78
        }
      ]
    },
    {
      "cell_type": "code",
      "metadata": {
        "id": "-5BnkQJBstPT",
        "colab_type": "code",
        "outputId": "b61fefa0-3510-488f-fb61-0a81fd4b7a1b",
        "colab": {
          "base_uri": "https://localhost:8080/",
          "height": 35
        }
      },
      "source": [
        "xtrain.dtype"
      ],
      "execution_count": 79,
      "outputs": [
        {
          "output_type": "execute_result",
          "data": {
            "text/plain": [
              "torch.float32"
            ]
          },
          "metadata": {
            "tags": []
          },
          "execution_count": 79
        }
      ]
    },
    {
      "cell_type": "code",
      "metadata": {
        "id": "4dWDyiuHsuxe",
        "colab_type": "code",
        "colab": {}
      },
      "source": [
        "ytrain = torch.from_numpy(Y_train.values).view(-1, 1)[0].long()\n",
        "ytest = torch.from_numpy(y_test.values).view(-1, 1)[0].long()"
      ],
      "execution_count": 0,
      "outputs": []
    },
    {
      "cell_type": "markdown",
      "metadata": {
        "id": "b84js1JBt9RO",
        "colab_type": "text"
      },
      "source": [
        "#Making the model"
      ]
    },
    {
      "cell_type": "code",
      "metadata": {
        "id": "JGOSf7qYuYpZ",
        "colab_type": "code",
        "colab": {}
      },
      "source": [
        "import torch.nn as nn\n",
        "import torch.nn.functional as F"
      ],
      "execution_count": 0,
      "outputs": []
    },
    {
      "cell_type": "code",
      "metadata": {
        "id": "c28rnvpvtcil",
        "colab_type": "code",
        "colab": {
          "base_uri": "https://localhost:8080/",
          "height": 35
        },
        "outputId": "885be287-62e5-431a-b461-2ffc16986a59"
      },
      "source": [
        "input_size = xtrain.shape[0]\n",
        "output_size = len(target['admit_probability'].unique())\n",
        "# xtrain = xtrain.unsqueeze_(2)\n",
        "input_size"
      ],
      "execution_count": 74,
      "outputs": [
        {
          "output_type": "execute_result",
          "data": {
            "text/plain": [
              "320"
            ]
          },
          "metadata": {
            "tags": []
          },
          "execution_count": 74
        }
      ]
    },
    {
      "cell_type": "code",
      "metadata": {
        "id": "Uet491eLuSRI",
        "colab_type": "code",
        "colab": {}
      },
      "source": [
        "class Net(nn.Module):\n",
        "  def __init__(self, hidden_size, activation_fn = 'relu', apply_dropout=False):\n",
        "    super(Net, self).__init__()\n",
        "\n",
        "    self.fc1 = nn.Linear(input_size, hidden_size)\n",
        "    self.fc2 = nn.Linear(hidden_size, hidden_size)\n",
        "    self.fc3 = nn.Linear(hidden_size, output_size)\n",
        "\n",
        "    self.hidden_size = hidden_size\n",
        "    self.activation_fn = activation_fn\n",
        "    self.dropout = None\n",
        "\n",
        "    if apply_dropout:\n",
        "      self.dropout = nn.dropout(0.2)\n",
        "\n",
        "\n",
        "  def forward(self, x):\n",
        "    activation_fn = None\n",
        "    if self.activation_fn == 'sigmoid':\n",
        "      activation_fn = F.torch.sigmoid\n",
        "    \n",
        "    elif self.activation_fn == 'tanh':\n",
        "      activation_fn = F.torch.tanh\n",
        "\n",
        "    elif self.activation_fn == 'relu':\n",
        "      activation_fn = F.relu\n",
        "\n",
        "    x = activation_fn(self.fc1(x))\n",
        "    x = activation_fn(self.fc2(x))\n",
        "\n",
        "    if self.dropout != None:\n",
        "      x = self.dropout(x)\n",
        "    \n",
        "    x = self.fc3(x)\n",
        "    return F.log_softmax(x, dim=-1)"
      ],
      "execution_count": 0,
      "outputs": []
    },
    {
      "cell_type": "code",
      "metadata": {
        "id": "iZA6zASk0cT5",
        "colab_type": "code",
        "colab": {}
      },
      "source": [
        "import torch.optim as optim"
      ],
      "execution_count": 0,
      "outputs": []
    },
    {
      "cell_type": "code",
      "metadata": {
        "id": "s8FTknbH05yl",
        "colab_type": "code",
        "colab": {}
      },
      "source": [
        "def train_and_evaluate_model(model, learn_rate=0.001):\n",
        "  epoch_data = []\n",
        "  epochs = 1001\n",
        "\n",
        "  optimizer = optim.Adam(model.parameters(), lr=learn_rate)\n",
        "\n",
        "  loss_fn = nn.NLLLoss()\n",
        "\n",
        "  test_accuracy = 0.0\n",
        "\n",
        "  for epoch in range(1, epochs):\n",
        "    optimizer.zero_grad()\n",
        "    model.train()\n",
        "\n",
        "    ypred = model(xtrain)\n",
        "\n",
        "    loss = loss_fn(ypred, ytrain)\n",
        "    loss.backward()\n",
        "\n",
        "    optimizer.step()\n",
        "\n",
        "    model.eval()\n",
        "\n",
        "    ypred_test = model(xtest)\n",
        "    loss_test = loss_fn(ypred_test, ytest)\n",
        "\n",
        "    _, pred = ypred_test.data.max(1)\n",
        "\n",
        "    test_accuracy = pred.eq(ytest.data).sum().item() / y_test.values.size\n",
        "\n",
        "    epoch_data.append([epoch, loss.data.item(), loss_test.data.item(), test_accuracy])\n",
        "\n",
        "    if epoch % 100 == 0:\n",
        "      print('epoch - %d (%d%%) train loss - %.2f test loss - %.2f test accuracy - %.4f'\\\n",
        "            % (epoch, epoch/150 * 10, loss.data.item(), loss_test.data.item(),\n",
        "               test_accuracy))\n",
        "      \n",
        "  return {\n",
        "      'model' : model,\n",
        "      'epoch_data' : epoch_data,\n",
        "      'num_epochs' : epochs,\n",
        "      'optimizer' : optimizer,\n",
        "      'loss_fn' : loss_fn,\n",
        "      'test_accuracy' : test_accuracy,\n",
        "      '_, pred' : ypred_test.data.max(1),\n",
        "      'actual_test_label' : ytest,\n",
        "  }"
      ],
      "execution_count": 0,
      "outputs": []
    },
    {
      "cell_type": "markdown",
      "metadata": {
        "id": "zuocRRPP5hGB",
        "colab_type": "text"
      },
      "source": [
        "#Training the model"
      ]
    },
    {
      "cell_type": "code",
      "metadata": {
        "id": "5u4n9Dtl5PJe",
        "colab_type": "code",
        "outputId": "3ee678ae-3279-4361-a5ba-68c46d111523",
        "colab": {
          "base_uri": "https://localhost:8080/",
          "height": 108
        }
      },
      "source": [
        "signet = Net(hidden_size=50, activation_fn = 'sigmoid')\n",
        "signet"
      ],
      "execution_count": 69,
      "outputs": [
        {
          "output_type": "execute_result",
          "data": {
            "text/plain": [
              "Net(\n",
              "  (fc1): Linear(in_features=6, out_features=50, bias=True)\n",
              "  (fc2): Linear(in_features=50, out_features=50, bias=True)\n",
              "  (fc3): Linear(in_features=50, out_features=29, bias=True)\n",
              ")"
            ]
          },
          "metadata": {
            "tags": []
          },
          "execution_count": 69
        }
      ]
    },
    {
      "cell_type": "code",
      "metadata": {
        "id": "4fg8bGhx8AGO",
        "colab_type": "code",
        "colab": {}
      },
      "source": [
        "result_signet = train_and_evaluate_model(signet)"
      ],
      "execution_count": 0,
      "outputs": []
    },
    {
      "cell_type": "code",
      "metadata": {
        "id": "CQj6BnxK8IgA",
        "colab_type": "code",
        "colab": {}
      },
      "source": [
        "\n"
      ],
      "execution_count": 0,
      "outputs": []
    }
  ]
}