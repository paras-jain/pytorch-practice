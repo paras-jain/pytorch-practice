{
  "nbformat": 4,
  "nbformat_minor": 0,
  "metadata": {
    "colab": {
      "name": "SentimentAnalysisUsingMultilayerBidirectionalRNNs.ipynb",
      "provenance": [],
      "collapsed_sections": [],
      "authorship_tag": "ABX9TyN3QnQqZA43CokZmwKdh5Zl"
    },
    "kernelspec": {
      "name": "python3",
      "display_name": "Python 3"
    },
    "accelerator": "GPU"
  },
  "cells": [
    {
      "cell_type": "code",
      "metadata": {
        "id": "iw6o93u8kNFS",
        "colab_type": "code",
        "colab": {}
      },
      "source": [
        "import torch\n",
        "import torchtext.vocab as vocab\n",
        "import torchtext"
      ],
      "execution_count": 0,
      "outputs": []
    },
    {
      "cell_type": "code",
      "metadata": {
        "id": "BbOFJR-0lJJp",
        "colab_type": "code",
        "outputId": "2b8263db-0b06-43ac-d837-3a5e5c6a4b2c",
        "colab": {
          "base_uri": "https://localhost:8080/",
          "height": 35
        }
      },
      "source": [
        "glove = vocab.GloVe(name='6B', dim=100)\n",
        "\n",
        "print('Loaded {} words'.format(len(glove.itos)))"
      ],
      "execution_count": 0,
      "outputs": [
        {
          "output_type": "stream",
          "text": [
            "Loaded 400000 words\n"
          ],
          "name": "stdout"
        }
      ]
    },
    {
      "cell_type": "code",
      "metadata": {
        "id": "uvzxpWuQlNfZ",
        "colab_type": "code",
        "outputId": "243f9150-239f-4fa9-e336-3b101e8ec269",
        "colab": {
          "base_uri": "https://localhost:8080/",
          "height": 35
        }
      },
      "source": [
        "glove.vectors.shape"
      ],
      "execution_count": 0,
      "outputs": [
        {
          "output_type": "execute_result",
          "data": {
            "text/plain": [
              "torch.Size([400000, 100])"
            ]
          },
          "metadata": {
            "tags": []
          },
          "execution_count": 71
        }
      ]
    },
    {
      "cell_type": "code",
      "metadata": {
        "id": "4SUcCnDsliyW",
        "colab_type": "code",
        "outputId": "c41e64c8-e328-4873-92f9-1b3b05d9db5d",
        "colab": {
          "base_uri": "https://localhost:8080/",
          "height": 1000
        }
      },
      "source": [
        "glove.itos[20:]"
      ],
      "execution_count": 0,
      "outputs": [
        {
          "output_type": "execute_result",
          "data": {
            "text/plain": [
              "['it',\n",
              " 'by',\n",
              " 'at',\n",
              " '(',\n",
              " ')',\n",
              " 'from',\n",
              " 'his',\n",
              " \"''\",\n",
              " '``',\n",
              " 'an',\n",
              " 'be',\n",
              " 'has',\n",
              " 'are',\n",
              " 'have',\n",
              " 'but',\n",
              " 'were',\n",
              " 'not',\n",
              " 'this',\n",
              " 'who',\n",
              " 'they',\n",
              " 'had',\n",
              " 'i',\n",
              " 'which',\n",
              " 'will',\n",
              " 'their',\n",
              " ':',\n",
              " 'or',\n",
              " 'its',\n",
              " 'one',\n",
              " 'after',\n",
              " 'new',\n",
              " 'been',\n",
              " 'also',\n",
              " 'we',\n",
              " 'would',\n",
              " 'two',\n",
              " 'more',\n",
              " \"'\",\n",
              " 'first',\n",
              " 'about',\n",
              " 'up',\n",
              " 'when',\n",
              " 'year',\n",
              " 'there',\n",
              " 'all',\n",
              " '--',\n",
              " 'out',\n",
              " 'she',\n",
              " 'other',\n",
              " 'people',\n",
              " \"n't\",\n",
              " 'her',\n",
              " 'percent',\n",
              " 'than',\n",
              " 'over',\n",
              " 'into',\n",
              " 'last',\n",
              " 'some',\n",
              " 'government',\n",
              " 'time',\n",
              " '$',\n",
              " 'you',\n",
              " 'years',\n",
              " 'if',\n",
              " 'no',\n",
              " 'world',\n",
              " 'can',\n",
              " 'three',\n",
              " 'do',\n",
              " ';',\n",
              " 'president',\n",
              " 'only',\n",
              " 'state',\n",
              " 'million',\n",
              " 'could',\n",
              " 'us',\n",
              " 'most',\n",
              " '_',\n",
              " 'against',\n",
              " 'u.s.',\n",
              " 'so',\n",
              " 'them',\n",
              " 'what',\n",
              " 'him',\n",
              " 'united',\n",
              " 'during',\n",
              " 'before',\n",
              " 'may',\n",
              " 'since',\n",
              " 'many',\n",
              " 'while',\n",
              " 'where',\n",
              " 'states',\n",
              " 'because',\n",
              " 'now',\n",
              " 'city',\n",
              " 'made',\n",
              " 'like',\n",
              " 'between',\n",
              " 'did',\n",
              " 'just',\n",
              " 'national',\n",
              " 'day',\n",
              " 'country',\n",
              " 'under',\n",
              " 'such',\n",
              " 'second',\n",
              " 'then',\n",
              " 'company',\n",
              " 'group',\n",
              " 'any',\n",
              " 'through',\n",
              " 'china',\n",
              " 'four',\n",
              " 'being',\n",
              " 'down',\n",
              " 'war',\n",
              " 'back',\n",
              " 'off',\n",
              " 'south',\n",
              " 'american',\n",
              " 'minister',\n",
              " 'police',\n",
              " 'well',\n",
              " 'including',\n",
              " 'team',\n",
              " 'international',\n",
              " 'week',\n",
              " 'officials',\n",
              " 'still',\n",
              " 'both',\n",
              " 'even',\n",
              " 'high',\n",
              " 'part',\n",
              " 'told',\n",
              " 'those',\n",
              " 'end',\n",
              " 'former',\n",
              " 'these',\n",
              " 'make',\n",
              " 'billion',\n",
              " 'work',\n",
              " 'our',\n",
              " 'home',\n",
              " 'school',\n",
              " 'party',\n",
              " 'house',\n",
              " 'old',\n",
              " 'later',\n",
              " 'get',\n",
              " 'another',\n",
              " 'tuesday',\n",
              " 'news',\n",
              " 'long',\n",
              " 'five',\n",
              " 'called',\n",
              " '1',\n",
              " 'wednesday',\n",
              " 'military',\n",
              " 'way',\n",
              " 'used',\n",
              " 'much',\n",
              " 'next',\n",
              " 'monday',\n",
              " 'thursday',\n",
              " 'friday',\n",
              " 'game',\n",
              " 'here',\n",
              " '?',\n",
              " 'should',\n",
              " 'take',\n",
              " 'very',\n",
              " 'my',\n",
              " 'north',\n",
              " 'security',\n",
              " 'season',\n",
              " 'york',\n",
              " 'how',\n",
              " 'public',\n",
              " 'early',\n",
              " 'according',\n",
              " 'several',\n",
              " 'court',\n",
              " 'say',\n",
              " 'around',\n",
              " 'foreign',\n",
              " '10',\n",
              " 'until',\n",
              " 'set',\n",
              " 'political',\n",
              " 'says',\n",
              " 'market',\n",
              " 'however',\n",
              " 'family',\n",
              " 'life',\n",
              " 'same',\n",
              " 'general',\n",
              " '–',\n",
              " 'left',\n",
              " 'good',\n",
              " 'top',\n",
              " 'university',\n",
              " 'going',\n",
              " 'number',\n",
              " 'major',\n",
              " 'known',\n",
              " 'points',\n",
              " 'won',\n",
              " 'six',\n",
              " 'month',\n",
              " 'dollars',\n",
              " 'bank',\n",
              " '2',\n",
              " 'iraq',\n",
              " 'use',\n",
              " 'members',\n",
              " 'each',\n",
              " 'area',\n",
              " 'found',\n",
              " 'official',\n",
              " 'sunday',\n",
              " 'place',\n",
              " 'go',\n",
              " 'based',\n",
              " 'among',\n",
              " 'third',\n",
              " 'times',\n",
              " 'took',\n",
              " 'right',\n",
              " 'days',\n",
              " 'local',\n",
              " 'economic',\n",
              " 'countries',\n",
              " 'see',\n",
              " 'best',\n",
              " 'report',\n",
              " 'killed',\n",
              " 'held',\n",
              " 'business',\n",
              " 'west',\n",
              " 'does',\n",
              " 'own',\n",
              " '%',\n",
              " 'came',\n",
              " 'law',\n",
              " 'months',\n",
              " 'women',\n",
              " \"'re\",\n",
              " 'power',\n",
              " 'think',\n",
              " 'service',\n",
              " 'children',\n",
              " 'bush',\n",
              " 'show',\n",
              " '/',\n",
              " 'help',\n",
              " 'chief',\n",
              " 'saturday',\n",
              " 'system',\n",
              " 'john',\n",
              " 'support',\n",
              " 'series',\n",
              " 'play',\n",
              " 'office',\n",
              " 'following',\n",
              " 'me',\n",
              " 'meeting',\n",
              " 'expected',\n",
              " 'late',\n",
              " 'washington',\n",
              " 'games',\n",
              " 'european',\n",
              " 'league',\n",
              " 'reported',\n",
              " 'final',\n",
              " 'added',\n",
              " 'without',\n",
              " 'british',\n",
              " 'white',\n",
              " 'history',\n",
              " 'man',\n",
              " 'men',\n",
              " 'became',\n",
              " 'want',\n",
              " 'march',\n",
              " 'case',\n",
              " 'few',\n",
              " 'run',\n",
              " 'money',\n",
              " 'began',\n",
              " 'open',\n",
              " 'name',\n",
              " 'trade',\n",
              " 'center',\n",
              " '3',\n",
              " 'israel',\n",
              " 'oil',\n",
              " 'too',\n",
              " 'al',\n",
              " 'film',\n",
              " 'win',\n",
              " 'led',\n",
              " 'east',\n",
              " 'central',\n",
              " '20',\n",
              " 'air',\n",
              " 'come',\n",
              " 'chinese',\n",
              " 'town',\n",
              " 'leader',\n",
              " 'army',\n",
              " 'line',\n",
              " 'never',\n",
              " 'little',\n",
              " 'played',\n",
              " 'prime',\n",
              " 'death',\n",
              " 'companies',\n",
              " 'least',\n",
              " 'put',\n",
              " 'forces',\n",
              " 'past',\n",
              " 'de',\n",
              " 'half',\n",
              " 'june',\n",
              " 'saying',\n",
              " 'know',\n",
              " 'federal',\n",
              " 'french',\n",
              " 'peace',\n",
              " 'earlier',\n",
              " 'capital',\n",
              " 'force',\n",
              " 'great',\n",
              " 'union',\n",
              " 'near',\n",
              " 'released',\n",
              " 'small',\n",
              " 'department',\n",
              " 'every',\n",
              " 'health',\n",
              " 'japan',\n",
              " 'head',\n",
              " 'ago',\n",
              " 'night',\n",
              " 'big',\n",
              " 'cup',\n",
              " 'election',\n",
              " 'region',\n",
              " 'director',\n",
              " 'talks',\n",
              " 'program',\n",
              " 'far',\n",
              " 'today',\n",
              " 'statement',\n",
              " 'july',\n",
              " 'although',\n",
              " 'district',\n",
              " 'again',\n",
              " 'born',\n",
              " 'development',\n",
              " 'leaders',\n",
              " 'council',\n",
              " 'close',\n",
              " 'record',\n",
              " 'along',\n",
              " 'county',\n",
              " 'france',\n",
              " 'went',\n",
              " 'point',\n",
              " 'must',\n",
              " 'spokesman',\n",
              " 'your',\n",
              " 'member',\n",
              " 'plan',\n",
              " 'financial',\n",
              " 'april',\n",
              " 'recent',\n",
              " 'campaign',\n",
              " 'become',\n",
              " 'troops',\n",
              " 'whether',\n",
              " 'lost',\n",
              " 'music',\n",
              " '15',\n",
              " 'got',\n",
              " 'israeli',\n",
              " '30',\n",
              " 'need',\n",
              " '4',\n",
              " 'lead',\n",
              " 'already',\n",
              " 'russia',\n",
              " 'though',\n",
              " 'might',\n",
              " 'free',\n",
              " 'hit',\n",
              " 'rights',\n",
              " '11',\n",
              " 'information',\n",
              " 'away',\n",
              " '12',\n",
              " '5',\n",
              " 'others',\n",
              " 'control',\n",
              " 'within',\n",
              " 'large',\n",
              " 'economy',\n",
              " 'press',\n",
              " 'agency',\n",
              " 'water',\n",
              " 'died',\n",
              " 'career',\n",
              " 'making',\n",
              " '...',\n",
              " 'deal',\n",
              " 'attack',\n",
              " 'side',\n",
              " 'seven',\n",
              " 'better',\n",
              " 'less',\n",
              " 'september',\n",
              " 'once',\n",
              " 'clinton',\n",
              " 'main',\n",
              " 'due',\n",
              " 'committee',\n",
              " 'building',\n",
              " 'conference',\n",
              " 'club',\n",
              " 'january',\n",
              " 'decision',\n",
              " 'stock',\n",
              " 'america',\n",
              " 'given',\n",
              " 'give',\n",
              " 'often',\n",
              " 'announced',\n",
              " 'television',\n",
              " 'industry',\n",
              " 'order',\n",
              " 'young',\n",
              " \"'ve\",\n",
              " 'palestinian',\n",
              " 'age',\n",
              " 'start',\n",
              " 'administration',\n",
              " 'russian',\n",
              " 'prices',\n",
              " 'round',\n",
              " 'december',\n",
              " 'nations',\n",
              " \"'m\",\n",
              " 'human',\n",
              " 'india',\n",
              " 'defense',\n",
              " 'asked',\n",
              " 'total',\n",
              " 'october',\n",
              " 'players',\n",
              " 'bill',\n",
              " 'important',\n",
              " 'southern',\n",
              " 'move',\n",
              " 'fire',\n",
              " 'population',\n",
              " 'rose',\n",
              " 'november',\n",
              " 'include',\n",
              " 'further',\n",
              " 'nuclear',\n",
              " 'street',\n",
              " 'taken',\n",
              " 'media',\n",
              " 'different',\n",
              " 'issue',\n",
              " 'received',\n",
              " 'secretary',\n",
              " 'return',\n",
              " 'college',\n",
              " 'working',\n",
              " 'community',\n",
              " 'eight',\n",
              " 'groups',\n",
              " 'despite',\n",
              " 'level',\n",
              " 'largest',\n",
              " 'whose',\n",
              " 'attacks',\n",
              " 'germany',\n",
              " 'august',\n",
              " 'change',\n",
              " 'church',\n",
              " 'nation',\n",
              " 'german',\n",
              " 'station',\n",
              " 'london',\n",
              " 'weeks',\n",
              " 'having',\n",
              " '18',\n",
              " 'research',\n",
              " 'black',\n",
              " 'services',\n",
              " 'story',\n",
              " '6',\n",
              " 'europe',\n",
              " 'sales',\n",
              " 'policy',\n",
              " 'visit',\n",
              " 'northern',\n",
              " 'lot',\n",
              " 'across',\n",
              " 'per',\n",
              " 'current',\n",
              " 'board',\n",
              " 'football',\n",
              " 'ministry',\n",
              " 'workers',\n",
              " 'vote',\n",
              " 'book',\n",
              " 'fell',\n",
              " 'seen',\n",
              " 'role',\n",
              " 'students',\n",
              " 'shares',\n",
              " 'iran',\n",
              " 'process',\n",
              " 'agreement',\n",
              " 'quarter',\n",
              " 'full',\n",
              " 'match',\n",
              " 'started',\n",
              " 'growth',\n",
              " 'yet',\n",
              " 'moved',\n",
              " 'possible',\n",
              " 'western',\n",
              " 'special',\n",
              " '100',\n",
              " 'plans',\n",
              " 'interest',\n",
              " 'behind',\n",
              " 'strong',\n",
              " 'england',\n",
              " 'named',\n",
              " 'food',\n",
              " 'period',\n",
              " 'real',\n",
              " 'authorities',\n",
              " 'car',\n",
              " 'term',\n",
              " 'rate',\n",
              " 'race',\n",
              " 'nearly',\n",
              " 'korea',\n",
              " 'enough',\n",
              " 'site',\n",
              " 'opposition',\n",
              " 'keep',\n",
              " '25',\n",
              " 'call',\n",
              " 'future',\n",
              " 'taking',\n",
              " 'island',\n",
              " '2008',\n",
              " '2006',\n",
              " 'road',\n",
              " 'outside',\n",
              " 'really',\n",
              " 'century',\n",
              " 'democratic',\n",
              " 'almost',\n",
              " 'single',\n",
              " 'share',\n",
              " 'leading',\n",
              " 'trying',\n",
              " 'find',\n",
              " 'album',\n",
              " 'senior',\n",
              " 'minutes',\n",
              " 'together',\n",
              " 'congress',\n",
              " 'index',\n",
              " 'australia',\n",
              " 'results',\n",
              " 'hard',\n",
              " 'hours',\n",
              " 'land',\n",
              " 'action',\n",
              " 'higher',\n",
              " 'field',\n",
              " 'cut',\n",
              " 'coach',\n",
              " 'elections',\n",
              " 'san',\n",
              " 'issues',\n",
              " 'executive',\n",
              " 'february',\n",
              " 'production',\n",
              " 'areas',\n",
              " 'river',\n",
              " 'face',\n",
              " 'using',\n",
              " 'japanese',\n",
              " 'province',\n",
              " 'park',\n",
              " 'price',\n",
              " 'commission',\n",
              " 'california',\n",
              " 'father',\n",
              " 'son',\n",
              " 'education',\n",
              " '7',\n",
              " 'village',\n",
              " 'energy',\n",
              " 'shot',\n",
              " 'short',\n",
              " 'africa',\n",
              " 'key',\n",
              " 'red',\n",
              " 'association',\n",
              " 'average',\n",
              " 'pay',\n",
              " 'exchange',\n",
              " 'eu',\n",
              " 'something',\n",
              " 'gave',\n",
              " 'likely',\n",
              " 'player',\n",
              " 'george',\n",
              " '2007',\n",
              " 'victory',\n",
              " '8',\n",
              " 'low',\n",
              " 'things',\n",
              " '2010',\n",
              " 'pakistan',\n",
              " '14',\n",
              " 'post',\n",
              " 'social',\n",
              " 'continue',\n",
              " 'ever',\n",
              " 'look',\n",
              " 'chairman',\n",
              " 'job',\n",
              " '2000',\n",
              " 'soldiers',\n",
              " 'able',\n",
              " 'parliament',\n",
              " 'front',\n",
              " 'himself',\n",
              " 'problems',\n",
              " 'private',\n",
              " 'lower',\n",
              " 'list',\n",
              " 'built',\n",
              " '13',\n",
              " 'efforts',\n",
              " 'dollar',\n",
              " 'miles',\n",
              " 'included',\n",
              " 'radio',\n",
              " 'live',\n",
              " 'form',\n",
              " 'david',\n",
              " 'african',\n",
              " 'increase',\n",
              " 'reports',\n",
              " 'sent',\n",
              " 'fourth',\n",
              " 'always',\n",
              " 'king',\n",
              " '50',\n",
              " 'tax',\n",
              " 'taiwan',\n",
              " 'britain',\n",
              " '16',\n",
              " 'playing',\n",
              " 'title',\n",
              " 'middle',\n",
              " 'meet',\n",
              " 'global',\n",
              " 'wife',\n",
              " '2009',\n",
              " 'position',\n",
              " 'located',\n",
              " 'clear',\n",
              " 'ahead',\n",
              " '2004',\n",
              " '2005',\n",
              " 'iraqi',\n",
              " 'english',\n",
              " 'result',\n",
              " 'release',\n",
              " 'violence',\n",
              " 'goal',\n",
              " 'project',\n",
              " 'closed',\n",
              " 'border',\n",
              " 'body',\n",
              " 'soon',\n",
              " 'crisis',\n",
              " 'division',\n",
              " '&amp;',\n",
              " 'served',\n",
              " 'tour',\n",
              " 'hospital',\n",
              " 'kong',\n",
              " 'test',\n",
              " 'hong',\n",
              " 'u.n.',\n",
              " 'inc.',\n",
              " 'technology',\n",
              " 'believe',\n",
              " 'organization',\n",
              " 'published',\n",
              " 'weapons',\n",
              " 'agreed',\n",
              " 'why',\n",
              " 'nine',\n",
              " 'summer',\n",
              " 'wanted',\n",
              " 'republican',\n",
              " 'act',\n",
              " 'recently',\n",
              " 'texas',\n",
              " 'course',\n",
              " 'problem',\n",
              " 'senate',\n",
              " 'medical',\n",
              " 'un',\n",
              " 'done',\n",
              " 'reached',\n",
              " 'star',\n",
              " 'continued',\n",
              " 'investors',\n",
              " 'living',\n",
              " 'care',\n",
              " 'signed',\n",
              " '17',\n",
              " 'art',\n",
              " 'provide',\n",
              " 'worked',\n",
              " 'presidential',\n",
              " 'gold',\n",
              " 'obama',\n",
              " 'morning',\n",
              " 'dead',\n",
              " 'opened',\n",
              " \"'ll\",\n",
              " 'event',\n",
              " 'previous',\n",
              " 'cost',\n",
              " 'instead',\n",
              " 'canada',\n",
              " 'band',\n",
              " 'teams',\n",
              " 'daily',\n",
              " '2001',\n",
              " 'available',\n",
              " 'drug',\n",
              " 'coming',\n",
              " '2003',\n",
              " 'investment',\n",
              " '’s',\n",
              " 'michael',\n",
              " 'civil',\n",
              " 'woman',\n",
              " 'training',\n",
              " 'appeared',\n",
              " '9',\n",
              " 'involved',\n",
              " 'indian',\n",
              " 'similar',\n",
              " 'situation',\n",
              " '24',\n",
              " 'los',\n",
              " 'running',\n",
              " 'fighting',\n",
              " 'mark',\n",
              " '40',\n",
              " 'trial',\n",
              " 'hold',\n",
              " 'australian',\n",
              " 'thought',\n",
              " '!',\n",
              " 'study',\n",
              " 'fall',\n",
              " 'mother',\n",
              " 'met',\n",
              " 'relations',\n",
              " 'anti',\n",
              " '2002',\n",
              " 'song',\n",
              " 'popular',\n",
              " 'base',\n",
              " 'tv',\n",
              " 'ground',\n",
              " 'markets',\n",
              " 'ii',\n",
              " 'newspaper',\n",
              " 'staff',\n",
              " 'saw',\n",
              " 'hand',\n",
              " 'hope',\n",
              " 'operations',\n",
              " 'pressure',\n",
              " 'americans',\n",
              " 'eastern',\n",
              " 'st.',\n",
              " 'legal',\n",
              " 'asia',\n",
              " 'budget',\n",
              " 'returned',\n",
              " 'considered',\n",
              " 'love',\n",
              " 'wrote',\n",
              " 'stop',\n",
              " 'fight',\n",
              " 'currently',\n",
              " 'charges',\n",
              " 'try',\n",
              " 'aid',\n",
              " 'ended',\n",
              " 'management',\n",
              " 'brought',\n",
              " 'cases',\n",
              " 'decided',\n",
              " 'failed',\n",
              " 'network',\n",
              " 'works',\n",
              " 'gas',\n",
              " 'turned',\n",
              " 'fact',\n",
              " 'vice',\n",
              " 'ca',\n",
              " 'mexico',\n",
              " 'trading',\n",
              " 'especially',\n",
              " 'reporters',\n",
              " 'afghanistan',\n",
              " 'common',\n",
              " 'looking',\n",
              " 'space',\n",
              " 'rates',\n",
              " 'manager',\n",
              " 'loss',\n",
              " '2011',\n",
              " 'justice',\n",
              " 'thousands',\n",
              " 'james',\n",
              " 'rather',\n",
              " 'fund',\n",
              " 'thing',\n",
              " 'republic',\n",
              " 'opening',\n",
              " 'accused',\n",
              " 'winning',\n",
              " 'scored',\n",
              " 'championship',\n",
              " 'example',\n",
              " 'getting',\n",
              " 'biggest',\n",
              " 'performance',\n",
              " 'sports',\n",
              " '1998',\n",
              " 'let',\n",
              " 'allowed',\n",
              " 'schools',\n",
              " 'means',\n",
              " 'turn',\n",
              " 'leave',\n",
              " 'no.',\n",
              " 'robert',\n",
              " 'personal',\n",
              " 'stocks',\n",
              " 'showed',\n",
              " 'light',\n",
              " 'arrested',\n",
              " 'person',\n",
              " 'either',\n",
              " 'offer',\n",
              " 'majority',\n",
              " 'battle',\n",
              " '19',\n",
              " 'class',\n",
              " 'evidence',\n",
              " 'makes',\n",
              " 'society',\n",
              " 'products',\n",
              " 'regional',\n",
              " 'needed',\n",
              " 'stage',\n",
              " 'am',\n",
              " 'doing',\n",
              " 'families',\n",
              " 'construction',\n",
              " 'various',\n",
              " '1996',\n",
              " 'sold',\n",
              " 'independent',\n",
              " 'kind',\n",
              " 'airport',\n",
              " 'paul',\n",
              " 'judge',\n",
              " 'internet',\n",
              " 'movement',\n",
              " 'room',\n",
              " 'followed',\n",
              " 'original',\n",
              " 'angeles',\n",
              " 'italy',\n",
              " '`',\n",
              " 'data',\n",
              " 'comes',\n",
              " 'parties',\n",
              " 'nothing',\n",
              " 'sea',\n",
              " 'bring',\n",
              " '2012',\n",
              " 'annual',\n",
              " 'officer',\n",
              " 'beijing',\n",
              " 'present',\n",
              " 'remain',\n",
              " 'nato',\n",
              " '1999',\n",
              " '22',\n",
              " 'remains',\n",
              " 'allow',\n",
              " 'florida',\n",
              " 'computer',\n",
              " '21',\n",
              " 'contract',\n",
              " 'coast',\n",
              " 'created',\n",
              " 'demand',\n",
              " 'operation',\n",
              " 'events',\n",
              " 'islamic',\n",
              " 'beat',\n",
              " 'analysts',\n",
              " 'interview',\n",
              " 'helped',\n",
              " 'child',\n",
              " 'probably',\n",
              " 'spent',\n",
              " 'asian',\n",
              " 'effort',\n",
              " 'cooperation',\n",
              " 'shows',\n",
              " 'calls',\n",
              " 'investigation',\n",
              " 'lives',\n",
              " 'video',\n",
              " 'yen',\n",
              " 'runs',\n",
              " 'tried',\n",
              " 'bad',\n",
              " 'described',\n",
              " '1994',\n",
              " 'toward',\n",
              " 'written',\n",
              " 'throughout',\n",
              " 'established',\n",
              " 'mission',\n",
              " 'associated',\n",
              " 'buy',\n",
              " 'growing',\n",
              " 'green',\n",
              " 'forward',\n",
              " 'competition',\n",
              " 'poor',\n",
              " 'latest',\n",
              " 'banks',\n",
              " 'question',\n",
              " '1997',\n",
              " 'prison',\n",
              " 'feel',\n",
              " 'attention',\n",
              " 'themselves',\n",
              " 'firm',\n",
              " 'injured',\n",
              " 'itself',\n",
              " 'governor',\n",
              " 'movie',\n",
              " 'range',\n",
              " 'cross',\n",
              " 'track',\n",
              " 'programs',\n",
              " '1995',\n",
              " 'forced',\n",
              " 'includes',\n",
              " 'difficult',\n",
              " 'produced',\n",
              " 'wall',\n",
              " 'rebels',\n",
              " 'income',\n",
              " 'corp.',\n",
              " 'chance',\n",
              " ...]"
            ]
          },
          "metadata": {
            "tags": []
          },
          "execution_count": 72
        }
      ]
    },
    {
      "cell_type": "code",
      "metadata": {
        "id": "dNt22TYslo0a",
        "colab_type": "code",
        "outputId": "e4dad98a-16b2-4c4e-c5f4-5c6eade80b57",
        "colab": {
          "base_uri": "https://localhost:8080/",
          "height": 35
        }
      },
      "source": [
        "glove.stoi['supercalifragilisticexpialidocious']"
      ],
      "execution_count": 0,
      "outputs": [
        {
          "output_type": "execute_result",
          "data": {
            "text/plain": [
              "351309"
            ]
          },
          "metadata": {
            "tags": []
          },
          "execution_count": 73
        }
      ]
    },
    {
      "cell_type": "code",
      "metadata": {
        "id": "Vs01_iYGosUD",
        "colab_type": "code",
        "colab": {}
      },
      "source": [
        "def get_vector(embeddings, word):\n",
        "    assert word in embeddings.stoi, f'*{word}* not in the vocabulary specified!'\n",
        "    return embeddings.vectors[embeddings.stoi[word]]"
      ],
      "execution_count": 0,
      "outputs": []
    },
    {
      "cell_type": "code",
      "metadata": {
        "id": "oXdPQl9DnH6Q",
        "colab_type": "code",
        "colab": {}
      },
      "source": [
        "def closest(embeddings, vector, n = 10):\n",
        "    \"\"\"\n",
        "    Find the closest words for a given vector\n",
        "    \"\"\"\n",
        "    distances = [(neighbour, torch.dist(vector, get_vector(embeddings, neighbour))) for neighbour in embeddings.itos]\n",
        "    return sorted(distances, key=lambda x: x[1])[:n]"
      ],
      "execution_count": 0,
      "outputs": []
    },
    {
      "cell_type": "code",
      "metadata": {
        "id": "2K2DETLmoFhR",
        "colab_type": "code",
        "outputId": "6f2eb2fe-1963-4008-83af-b2fb43afa935",
        "colab": {
          "base_uri": "https://localhost:8080/",
          "height": 199
        }
      },
      "source": [
        "closest(glove, get_vector(glove, 'supercalifragilisticexpialidocious'))"
      ],
      "execution_count": 0,
      "outputs": [
        {
          "output_type": "execute_result",
          "data": {
            "text/plain": [
              "[('supercalifragilisticexpialidocious', tensor(0.)),\n",
              " ('liopleurodon', tensor(1.8242)),\n",
              " ('guardfish', tensor(1.8615)),\n",
              " ('timeslip', tensor(1.8677)),\n",
              " ('hypsilophodon', tensor(1.8795)),\n",
              " ('bayleaf', tensor(1.8826)),\n",
              " ('gryposaurus', tensor(1.8992)),\n",
              " ('coelurus', tensor(1.9007)),\n",
              " ('thecodontosaurus', tensor(1.9010)),\n",
              " ('saurolophus', tensor(1.9011))]"
            ]
          },
          "metadata": {
            "tags": []
          },
          "execution_count": 76
        }
      ]
    },
    {
      "cell_type": "code",
      "metadata": {
        "id": "SndVyKFeolSK",
        "colab_type": "code",
        "colab": {}
      },
      "source": [
        "def print_tuples(tuples):\n",
        "    for tuple in tuples:\n",
        "        print('(%.4f) %s' % (tuple[1], tuple[0]))"
      ],
      "execution_count": 0,
      "outputs": []
    },
    {
      "cell_type": "code",
      "metadata": {
        "id": "M2Lf8U8SwrUG",
        "colab_type": "code",
        "outputId": "0501ee5c-37b0-42eb-df9c-82cb4c079886",
        "colab": {
          "base_uri": "https://localhost:8080/",
          "height": 199
        }
      },
      "source": [
        "print_tuples(closest(glove, get_vector(glove, 'google')))"
      ],
      "execution_count": 0,
      "outputs": [
        {
          "output_type": "stream",
          "text": [
            "(0.0000) google\n",
            "(3.0772) yahoo\n",
            "(3.8836) microsoft\n",
            "(4.1048) web\n",
            "(4.1082) aol\n",
            "(4.1165) facebook\n",
            "(4.3917) ebay\n",
            "(4.4122) msn\n",
            "(4.4540) internet\n",
            "(4.4651) netscape\n"
          ],
          "name": "stdout"
        }
      ]
    },
    {
      "cell_type": "markdown",
      "metadata": {
        "id": "X_zmnRMXxFj3",
        "colab_type": "text"
      },
      "source": [
        "Finding analogies of the form w1 : w2 :: w3 : ?"
      ]
    },
    {
      "cell_type": "code",
      "metadata": {
        "id": "t1iC6bBxwuMe",
        "colab_type": "code",
        "colab": {}
      },
      "source": [
        "def analogy(embeddings, w1, w2, w3, n=5):\n",
        "    print('\\n[%s : %s :: %s : ?]' % (w1, w2, w3))\n",
        "\n",
        "    closest_words = closest(embeddings, get_vector(embeddings, w2) - get_vector(embeddings, w1) + get_vector(embeddings, w3))\n",
        "\n",
        "    closest_words = [t for t in closest_words if t[0] not in [w1, w2, w3]][:n]\n",
        "        \n",
        "    return closest_words"
      ],
      "execution_count": 0,
      "outputs": []
    },
    {
      "cell_type": "code",
      "metadata": {
        "id": "_VHhk2F4zlb1",
        "colab_type": "code",
        "outputId": "5aa5fb15-28df-49d1-f26a-e92945787644",
        "colab": {
          "base_uri": "https://localhost:8080/",
          "height": 92
        }
      },
      "source": [
        "print(analogy(glove, 'obama', 'president', 'elizabeth'))"
      ],
      "execution_count": 0,
      "outputs": [
        {
          "output_type": "stream",
          "text": [
            "\n",
            "[obama : president :: elizabeth : ?]\n",
            "[('catherine', tensor(5.8920)), ('frederick', tensor(6.1170)), ('margaret', tensor(6.1660)), ('edward', tensor(6.2489)), ('william', tensor(6.2714))]\n"
          ],
          "name": "stdout"
        }
      ]
    },
    {
      "cell_type": "markdown",
      "metadata": {
        "id": "YTmaRt5z2Ci2",
        "colab_type": "text"
      },
      "source": [
        "## Data Preprocessing"
      ]
    },
    {
      "cell_type": "code",
      "metadata": {
        "id": "O03eLPyAzxsy",
        "colab_type": "code",
        "outputId": "51b41ecb-67cc-4c37-b773-7e16fbdfc825",
        "colab": {
          "base_uri": "https://localhost:8080/",
          "height": 400
        }
      },
      "source": [
        "! pip install spacy"
      ],
      "execution_count": 0,
      "outputs": [
        {
          "output_type": "stream",
          "text": [
            "Requirement already satisfied: spacy in /usr/local/lib/python3.6/dist-packages (2.2.4)\n",
            "Requirement already satisfied: preshed<3.1.0,>=3.0.2 in /usr/local/lib/python3.6/dist-packages (from spacy) (3.0.2)\n",
            "Requirement already satisfied: numpy>=1.15.0 in /usr/local/lib/python3.6/dist-packages (from spacy) (1.18.2)\n",
            "Requirement already satisfied: tqdm<5.0.0,>=4.38.0 in /usr/local/lib/python3.6/dist-packages (from spacy) (4.38.0)\n",
            "Requirement already satisfied: setuptools in /usr/local/lib/python3.6/dist-packages (from spacy) (46.1.3)\n",
            "Requirement already satisfied: murmurhash<1.1.0,>=0.28.0 in /usr/local/lib/python3.6/dist-packages (from spacy) (1.0.2)\n",
            "Requirement already satisfied: cymem<2.1.0,>=2.0.2 in /usr/local/lib/python3.6/dist-packages (from spacy) (2.0.3)\n",
            "Requirement already satisfied: plac<1.2.0,>=0.9.6 in /usr/local/lib/python3.6/dist-packages (from spacy) (1.1.3)\n",
            "Requirement already satisfied: srsly<1.1.0,>=1.0.2 in /usr/local/lib/python3.6/dist-packages (from spacy) (1.0.2)\n",
            "Requirement already satisfied: catalogue<1.1.0,>=0.0.7 in /usr/local/lib/python3.6/dist-packages (from spacy) (1.0.0)\n",
            "Requirement already satisfied: wasabi<1.1.0,>=0.4.0 in /usr/local/lib/python3.6/dist-packages (from spacy) (0.6.0)\n",
            "Requirement already satisfied: requests<3.0.0,>=2.13.0 in /usr/local/lib/python3.6/dist-packages (from spacy) (2.21.0)\n",
            "Requirement already satisfied: blis<0.5.0,>=0.4.0 in /usr/local/lib/python3.6/dist-packages (from spacy) (0.4.1)\n",
            "Requirement already satisfied: thinc==7.4.0 in /usr/local/lib/python3.6/dist-packages (from spacy) (7.4.0)\n",
            "Requirement already satisfied: importlib-metadata>=0.20; python_version < \"3.8\" in /usr/local/lib/python3.6/dist-packages (from catalogue<1.1.0,>=0.0.7->spacy) (1.6.0)\n",
            "Requirement already satisfied: chardet<3.1.0,>=3.0.2 in /usr/local/lib/python3.6/dist-packages (from requests<3.0.0,>=2.13.0->spacy) (3.0.4)\n",
            "Requirement already satisfied: certifi>=2017.4.17 in /usr/local/lib/python3.6/dist-packages (from requests<3.0.0,>=2.13.0->spacy) (2020.4.5.1)\n",
            "Requirement already satisfied: urllib3<1.25,>=1.21.1 in /usr/local/lib/python3.6/dist-packages (from requests<3.0.0,>=2.13.0->spacy) (1.24.3)\n",
            "Requirement already satisfied: idna<2.9,>=2.5 in /usr/local/lib/python3.6/dist-packages (from requests<3.0.0,>=2.13.0->spacy) (2.8)\n",
            "Requirement already satisfied: zipp>=0.5 in /usr/local/lib/python3.6/dist-packages (from importlib-metadata>=0.20; python_version < \"3.8\"->catalogue<1.1.0,>=0.0.7->spacy) (3.1.0)\n"
          ],
          "name": "stdout"
        }
      ]
    },
    {
      "cell_type": "code",
      "metadata": {
        "id": "XO0haNG32IQN",
        "colab_type": "code",
        "outputId": "ce0a5db8-b069-4354-e1f0-4e03765761e3",
        "colab": {
          "base_uri": "https://localhost:8080/",
          "height": 528
        }
      },
      "source": [
        "! python -m spacy download en"
      ],
      "execution_count": 0,
      "outputs": [
        {
          "output_type": "stream",
          "text": [
            "Requirement already satisfied: en_core_web_sm==2.2.5 from https://github.com/explosion/spacy-models/releases/download/en_core_web_sm-2.2.5/en_core_web_sm-2.2.5.tar.gz#egg=en_core_web_sm==2.2.5 in /usr/local/lib/python3.6/dist-packages (2.2.5)\n",
            "Requirement already satisfied: spacy>=2.2.2 in /usr/local/lib/python3.6/dist-packages (from en_core_web_sm==2.2.5) (2.2.4)\n",
            "Requirement already satisfied: srsly<1.1.0,>=1.0.2 in /usr/local/lib/python3.6/dist-packages (from spacy>=2.2.2->en_core_web_sm==2.2.5) (1.0.2)\n",
            "Requirement already satisfied: blis<0.5.0,>=0.4.0 in /usr/local/lib/python3.6/dist-packages (from spacy>=2.2.2->en_core_web_sm==2.2.5) (0.4.1)\n",
            "Requirement already satisfied: wasabi<1.1.0,>=0.4.0 in /usr/local/lib/python3.6/dist-packages (from spacy>=2.2.2->en_core_web_sm==2.2.5) (0.6.0)\n",
            "Requirement already satisfied: numpy>=1.15.0 in /usr/local/lib/python3.6/dist-packages (from spacy>=2.2.2->en_core_web_sm==2.2.5) (1.18.2)\n",
            "Requirement already satisfied: requests<3.0.0,>=2.13.0 in /usr/local/lib/python3.6/dist-packages (from spacy>=2.2.2->en_core_web_sm==2.2.5) (2.21.0)\n",
            "Requirement already satisfied: thinc==7.4.0 in /usr/local/lib/python3.6/dist-packages (from spacy>=2.2.2->en_core_web_sm==2.2.5) (7.4.0)\n",
            "Requirement already satisfied: preshed<3.1.0,>=3.0.2 in /usr/local/lib/python3.6/dist-packages (from spacy>=2.2.2->en_core_web_sm==2.2.5) (3.0.2)\n",
            "Requirement already satisfied: plac<1.2.0,>=0.9.6 in /usr/local/lib/python3.6/dist-packages (from spacy>=2.2.2->en_core_web_sm==2.2.5) (1.1.3)\n",
            "Requirement already satisfied: catalogue<1.1.0,>=0.0.7 in /usr/local/lib/python3.6/dist-packages (from spacy>=2.2.2->en_core_web_sm==2.2.5) (1.0.0)\n",
            "Requirement already satisfied: tqdm<5.0.0,>=4.38.0 in /usr/local/lib/python3.6/dist-packages (from spacy>=2.2.2->en_core_web_sm==2.2.5) (4.38.0)\n",
            "Requirement already satisfied: setuptools in /usr/local/lib/python3.6/dist-packages (from spacy>=2.2.2->en_core_web_sm==2.2.5) (46.1.3)\n",
            "Requirement already satisfied: murmurhash<1.1.0,>=0.28.0 in /usr/local/lib/python3.6/dist-packages (from spacy>=2.2.2->en_core_web_sm==2.2.5) (1.0.2)\n",
            "Requirement already satisfied: cymem<2.1.0,>=2.0.2 in /usr/local/lib/python3.6/dist-packages (from spacy>=2.2.2->en_core_web_sm==2.2.5) (2.0.3)\n",
            "Requirement already satisfied: certifi>=2017.4.17 in /usr/local/lib/python3.6/dist-packages (from requests<3.0.0,>=2.13.0->spacy>=2.2.2->en_core_web_sm==2.2.5) (2020.4.5.1)\n",
            "Requirement already satisfied: urllib3<1.25,>=1.21.1 in /usr/local/lib/python3.6/dist-packages (from requests<3.0.0,>=2.13.0->spacy>=2.2.2->en_core_web_sm==2.2.5) (1.24.3)\n",
            "Requirement already satisfied: chardet<3.1.0,>=3.0.2 in /usr/local/lib/python3.6/dist-packages (from requests<3.0.0,>=2.13.0->spacy>=2.2.2->en_core_web_sm==2.2.5) (3.0.4)\n",
            "Requirement already satisfied: idna<2.9,>=2.5 in /usr/local/lib/python3.6/dist-packages (from requests<3.0.0,>=2.13.0->spacy>=2.2.2->en_core_web_sm==2.2.5) (2.8)\n",
            "Requirement already satisfied: importlib-metadata>=0.20; python_version < \"3.8\" in /usr/local/lib/python3.6/dist-packages (from catalogue<1.1.0,>=0.0.7->spacy>=2.2.2->en_core_web_sm==2.2.5) (1.6.0)\n",
            "Requirement already satisfied: zipp>=0.5 in /usr/local/lib/python3.6/dist-packages (from importlib-metadata>=0.20; python_version < \"3.8\"->catalogue<1.1.0,>=0.0.7->spacy>=2.2.2->en_core_web_sm==2.2.5) (3.1.0)\n",
            "\u001b[38;5;2m✔ Download and installation successful\u001b[0m\n",
            "You can now load the model via spacy.load('en_core_web_sm')\n",
            "\u001b[38;5;2m✔ Linking successful\u001b[0m\n",
            "/usr/local/lib/python3.6/dist-packages/en_core_web_sm -->\n",
            "/usr/local/lib/python3.6/dist-packages/spacy/data/en\n",
            "You can now load the model via spacy.load('en')\n"
          ],
          "name": "stdout"
        }
      ]
    },
    {
      "cell_type": "code",
      "metadata": {
        "id": "VHl9GJPB2OaB",
        "colab_type": "code",
        "outputId": "983aac7d-b5c0-4436-aab6-4b0b766020b9",
        "colab": {
          "base_uri": "https://localhost:8080/",
          "height": 35
        }
      },
      "source": [
        "import spacy\n",
        "spacy.__version__"
      ],
      "execution_count": 0,
      "outputs": [
        {
          "output_type": "execute_result",
          "data": {
            "text/plain": [
              "'2.2.4'"
            ]
          },
          "metadata": {
            "tags": []
          },
          "execution_count": 83
        }
      ]
    },
    {
      "cell_type": "code",
      "metadata": {
        "id": "jZRlANw42XQc",
        "colab_type": "code",
        "colab": {}
      },
      "source": [
        "import torch\n",
        "from torchtext import data\n",
        "from torchtext import datasets\n",
        "\n",
        "import re\n",
        "import pandas as pd\n",
        "import seaborn as sns\n",
        "import matplotlib.pyplot as plt"
      ],
      "execution_count": 0,
      "outputs": []
    },
    {
      "cell_type": "code",
      "metadata": {
        "id": "RGPTv1JI2qRc",
        "colab_type": "code",
        "outputId": "949fea0c-25d3-4d0b-f1ec-291ce6f9052e",
        "colab": {
          "base_uri": "https://localhost:8080/",
          "height": 242
        }
      },
      "source": [
        "tweets = pd.read_csv('Sentiment Analysis Dataset.csv', error_bad_lines=False)\n",
        "\n",
        "tweets = tweets.head(50000)\n",
        "tweets.head()"
      ],
      "execution_count": 0,
      "outputs": [
        {
          "output_type": "stream",
          "text": [
            "b'Skipping line 8836: expected 4 fields, saw 5\\n'\n",
            "b'Skipping line 535882: expected 4 fields, saw 7\\n'\n"
          ],
          "name": "stderr"
        },
        {
          "output_type": "execute_result",
          "data": {
            "text/html": [
              "<div>\n",
              "<style scoped>\n",
              "    .dataframe tbody tr th:only-of-type {\n",
              "        vertical-align: middle;\n",
              "    }\n",
              "\n",
              "    .dataframe tbody tr th {\n",
              "        vertical-align: top;\n",
              "    }\n",
              "\n",
              "    .dataframe thead th {\n",
              "        text-align: right;\n",
              "    }\n",
              "</style>\n",
              "<table border=\"1\" class=\"dataframe\">\n",
              "  <thead>\n",
              "    <tr style=\"text-align: right;\">\n",
              "      <th></th>\n",
              "      <th>ItemID</th>\n",
              "      <th>Sentiment</th>\n",
              "      <th>SentimentSource</th>\n",
              "      <th>SentimentText</th>\n",
              "    </tr>\n",
              "  </thead>\n",
              "  <tbody>\n",
              "    <tr>\n",
              "      <th>0</th>\n",
              "      <td>1</td>\n",
              "      <td>0</td>\n",
              "      <td>Sentiment140</td>\n",
              "      <td>is so sad for my APL frie...</td>\n",
              "    </tr>\n",
              "    <tr>\n",
              "      <th>1</th>\n",
              "      <td>2</td>\n",
              "      <td>0</td>\n",
              "      <td>Sentiment140</td>\n",
              "      <td>I missed the New Moon trail...</td>\n",
              "    </tr>\n",
              "    <tr>\n",
              "      <th>2</th>\n",
              "      <td>3</td>\n",
              "      <td>1</td>\n",
              "      <td>Sentiment140</td>\n",
              "      <td>omg its already 7:30 :O</td>\n",
              "    </tr>\n",
              "    <tr>\n",
              "      <th>3</th>\n",
              "      <td>4</td>\n",
              "      <td>0</td>\n",
              "      <td>Sentiment140</td>\n",
              "      <td>.. Omgaga. Im sooo  im gunna CRy. I'...</td>\n",
              "    </tr>\n",
              "    <tr>\n",
              "      <th>4</th>\n",
              "      <td>5</td>\n",
              "      <td>0</td>\n",
              "      <td>Sentiment140</td>\n",
              "      <td>i think mi bf is cheating on me!!!   ...</td>\n",
              "    </tr>\n",
              "  </tbody>\n",
              "</table>\n",
              "</div>"
            ],
            "text/plain": [
              "   ItemID  ...                                      SentimentText\n",
              "0       1  ...                       is so sad for my APL frie...\n",
              "1       2  ...                     I missed the New Moon trail...\n",
              "2       3  ...                            omg its already 7:30 :O\n",
              "3       4  ...            .. Omgaga. Im sooo  im gunna CRy. I'...\n",
              "4       5  ...           i think mi bf is cheating on me!!!   ...\n",
              "\n",
              "[5 rows x 4 columns]"
            ]
          },
          "metadata": {
            "tags": []
          },
          "execution_count": 85
        }
      ]
    },
    {
      "cell_type": "code",
      "metadata": {
        "id": "EsE5p07w4wqZ",
        "colab_type": "code",
        "outputId": "98641439-2bac-4b26-b5f1-32934396529c",
        "colab": {
          "base_uri": "https://localhost:8080/",
          "height": 206
        }
      },
      "source": [
        "tweets = tweets.drop(columns = ['ItemID', 'SentimentSource'], axis = 1)\n",
        "\n",
        "tweets.head()"
      ],
      "execution_count": 0,
      "outputs": [
        {
          "output_type": "execute_result",
          "data": {
            "text/html": [
              "<div>\n",
              "<style scoped>\n",
              "    .dataframe tbody tr th:only-of-type {\n",
              "        vertical-align: middle;\n",
              "    }\n",
              "\n",
              "    .dataframe tbody tr th {\n",
              "        vertical-align: top;\n",
              "    }\n",
              "\n",
              "    .dataframe thead th {\n",
              "        text-align: right;\n",
              "    }\n",
              "</style>\n",
              "<table border=\"1\" class=\"dataframe\">\n",
              "  <thead>\n",
              "    <tr style=\"text-align: right;\">\n",
              "      <th></th>\n",
              "      <th>Sentiment</th>\n",
              "      <th>SentimentText</th>\n",
              "    </tr>\n",
              "  </thead>\n",
              "  <tbody>\n",
              "    <tr>\n",
              "      <th>0</th>\n",
              "      <td>0</td>\n",
              "      <td>is so sad for my APL frie...</td>\n",
              "    </tr>\n",
              "    <tr>\n",
              "      <th>1</th>\n",
              "      <td>0</td>\n",
              "      <td>I missed the New Moon trail...</td>\n",
              "    </tr>\n",
              "    <tr>\n",
              "      <th>2</th>\n",
              "      <td>1</td>\n",
              "      <td>omg its already 7:30 :O</td>\n",
              "    </tr>\n",
              "    <tr>\n",
              "      <th>3</th>\n",
              "      <td>0</td>\n",
              "      <td>.. Omgaga. Im sooo  im gunna CRy. I'...</td>\n",
              "    </tr>\n",
              "    <tr>\n",
              "      <th>4</th>\n",
              "      <td>0</td>\n",
              "      <td>i think mi bf is cheating on me!!!   ...</td>\n",
              "    </tr>\n",
              "  </tbody>\n",
              "</table>\n",
              "</div>"
            ],
            "text/plain": [
              "   Sentiment                                      SentimentText\n",
              "0          0                       is so sad for my APL frie...\n",
              "1          0                     I missed the New Moon trail...\n",
              "2          1                            omg its already 7:30 :O\n",
              "3          0            .. Omgaga. Im sooo  im gunna CRy. I'...\n",
              "4          0           i think mi bf is cheating on me!!!   ..."
            ]
          },
          "metadata": {
            "tags": []
          },
          "execution_count": 86
        }
      ]
    },
    {
      "cell_type": "code",
      "metadata": {
        "id": "tOj5aCQc5CIc",
        "colab_type": "code",
        "outputId": "20610e8c-80dd-49a7-baaa-85bb30cd1b1e",
        "colab": {
          "base_uri": "https://localhost:8080/",
          "height": 35
        }
      },
      "source": [
        "tweets.shape"
      ],
      "execution_count": 0,
      "outputs": [
        {
          "output_type": "execute_result",
          "data": {
            "text/plain": [
              "(50000, 2)"
            ]
          },
          "metadata": {
            "tags": []
          },
          "execution_count": 87
        }
      ]
    },
    {
      "cell_type": "code",
      "metadata": {
        "id": "UcM_5EOq5I3U",
        "colab_type": "code",
        "outputId": "b4724bc5-adfb-468f-b4b5-d5c0385c5427",
        "colab": {
          "base_uri": "https://localhost:8080/",
          "height": 35
        }
      },
      "source": [
        "tweets['Sentiment'].unique()"
      ],
      "execution_count": 0,
      "outputs": [
        {
          "output_type": "execute_result",
          "data": {
            "text/plain": [
              "array([0, 1])"
            ]
          },
          "metadata": {
            "tags": []
          },
          "execution_count": 88
        }
      ]
    },
    {
      "cell_type": "code",
      "metadata": {
        "id": "KSzl7K6G5Ryw",
        "colab_type": "code",
        "outputId": "044c0710-dbc6-4f15-ed2b-87a9544acbb2",
        "colab": {
          "base_uri": "https://localhost:8080/",
          "height": 72
        }
      },
      "source": [
        "tweets.Sentiment.value_counts()"
      ],
      "execution_count": 0,
      "outputs": [
        {
          "output_type": "execute_result",
          "data": {
            "text/plain": [
              "1    26921\n",
              "0    23079\n",
              "Name: Sentiment, dtype: int64"
            ]
          },
          "metadata": {
            "tags": []
          },
          "execution_count": 89
        }
      ]
    },
    {
      "cell_type": "code",
      "metadata": {
        "id": "cuRPviYM5bux",
        "colab_type": "code",
        "outputId": "eb8eb0db-29fc-4b5b-f83c-f8930c000b65",
        "colab": {
          "base_uri": "https://localhost:8080/",
          "height": 515
        }
      },
      "source": [
        "fig = plt.figure(figsize = (12, 8))\n",
        "ax = sns.barplot(x = tweets.Sentiment.unique(), y = tweets.Sentiment.value_counts())\n",
        "ax.set(xlabel = 'Labels')"
      ],
      "execution_count": 0,
      "outputs": [
        {
          "output_type": "execute_result",
          "data": {
            "text/plain": [
              "[Text(0.5, 0, 'Labels')]"
            ]
          },
          "metadata": {
            "tags": []
          },
          "execution_count": 90
        },
        {
          "output_type": "display_data",
          "data": {
            "image/png": "[encoded data removed]",
            "text/plain": [
              "<Figure size 864x576 with 1 Axes>"
            ]
          },
          "metadata": {
            "tags": [],
            "needs_background": "light"
          }
        }
      ]
    },
    {
      "cell_type": "code",
      "metadata": {
        "id": "jTmqlenq6Qu9",
        "colab_type": "code",
        "colab": {}
      },
      "source": [
        "from sklearn.model_selection import train_test_split\n",
        "train, test = train_test_split(tweets, test_size = 0.2, random_state = 42)"
      ],
      "execution_count": 0,
      "outputs": []
    },
    {
      "cell_type": "code",
      "metadata": {
        "id": "Yy_wam0M6kOT",
        "colab_type": "code",
        "outputId": "77b3bee0-6f13-4c6c-e490-b72e8287594f",
        "colab": {
          "base_uri": "https://localhost:8080/",
          "height": 526
        }
      },
      "source": [
        "train.reset_index(drop = True), test.reset_index(drop = True)"
      ],
      "execution_count": 0,
      "outputs": [
        {
          "output_type": "execute_result",
          "data": {
            "text/plain": [
              "(       Sentiment                                      SentimentText\n",
              " 0              1  @amyrenea omg so am I lol I fell asleep when i...\n",
              " 1              0               @Adrienne_Bailon I want a shout out \n",
              " 2              0  @Anonymousboy03 Plans for school stuff &amp; a...\n",
              " 3              0  ... has hit a writer's block .. am loosing my ...\n",
              " 4              0  ... trying to find people I know! I`m bored, i...\n",
              " ...          ...                                                ...\n",
              " 39995          1   #robotpickuplines are so funny. check them out. \n",
              " 39996          1  @annyo84 awh thankss.  yeah, i understand what...\n",
              " 39997          1  @AmbiguityX ohh you're in twin cities?  i luv ...\n",
              " 39998          0   Dinara lost again in Roland Garros. Why the S...\n",
              " 39999          1  *yawn* fucking time zones shit. I'm really sic...\n",
              " \n",
              " [40000 rows x 2 columns],\n",
              "       Sentiment                                      SentimentText\n",
              " 0             1  @aimeesays aww i hope it does fly by because J...\n",
              " 1             0  #dontyouhate when you JUST painted yur nails a...\n",
              " 2             0  - @EvertB which one? http://bit.ly/10o8LW, htt...\n",
              " 3             1  *shriek* Bee almost flew here from window. I'm...\n",
              " 4             1  @Alyssa_Milano granted if we lose it is to a w...\n",
              " ...         ...                                                ...\n",
              " 9995          0  @aisforamylynn you're a badass for having a ba...\n",
              " 9996          1  @acts_rox  I'm not particular about it being f...\n",
              " 9997          1                   @@j311stp and the same to you!  \n",
              " 9998          1  .@nanere Sheila I heart you!! That &quot;Holly...\n",
              " 9999          0   not the same without a goodnight....hm. Wish ...\n",
              " \n",
              " [10000 rows x 2 columns])"
            ]
          },
          "metadata": {
            "tags": []
          },
          "execution_count": 92
        }
      ]
    },
    {
      "cell_type": "code",
      "metadata": {
        "id": "onagoFw56tPE",
        "colab_type": "code",
        "colab": {}
      },
      "source": [
        "train.to_csv('train.csv', index = False)\n",
        "test.to_csv('test.csv', index = False)"
      ],
      "execution_count": 0,
      "outputs": []
    },
    {
      "cell_type": "code",
      "metadata": {
        "id": "NDBlnatp7TDu",
        "colab_type": "code",
        "colab": {}
      },
      "source": [
        "def tweet_clean(text):\n",
        "  text = re.sub(r'[^A-Za-z0-9]+', ' ', text)\n",
        "  text = re.sub(r'https?:/\\/\\S+', ' ', text)\n",
        "  return text.strip()"
      ],
      "execution_count": 0,
      "outputs": []
    },
    {
      "cell_type": "code",
      "metadata": {
        "id": "kuNZ9kSm7_iu",
        "colab_type": "code",
        "colab": {}
      },
      "source": [
        "nlp = spacy.load('en', disable=['parser', 'tagger', 'ner'])\n",
        "def tokenizer(s):\n",
        "  return [w.text.lower() for w in nlp(tweet_clean(s))]"
      ],
      "execution_count": 0,
      "outputs": []
    },
    {
      "cell_type": "code",
      "metadata": {
        "id": "9R77R9mh9J8J",
        "colab_type": "code",
        "colab": {}
      },
      "source": [
        "TEXT = torchtext.data.Field(tokenize = tokenizer)\n",
        "LABEL = torchtext.data.LabelField(dtype = torch.float)"
      ],
      "execution_count": 0,
      "outputs": []
    },
    {
      "cell_type": "code",
      "metadata": {
        "id": "bWcdc_8z9cPI",
        "colab_type": "code",
        "colab": {}
      },
      "source": [
        "datafields = [('Sentiment', LABEL), ('SentimentText', TEXT)]"
      ],
      "execution_count": 0,
      "outputs": []
    },
    {
      "cell_type": "code",
      "metadata": {
        "id": "fzzKWdkbAs7A",
        "colab_type": "code",
        "colab": {}
      },
      "source": [
        "trn, tst = torchtext.data.TabularDataset.splits(path = '/content/',\n",
        "                                         train = 'train.csv',\n",
        "                                         test = 'test.csv',\n",
        "                                         format = 'csv',\n",
        "                                         skip_header = True,\n",
        "                                         fields = datafields)"
      ],
      "execution_count": 0,
      "outputs": []
    },
    {
      "cell_type": "code",
      "metadata": {
        "id": "wRVj_d5jBMKG",
        "colab_type": "code",
        "outputId": "3ff56cf9-4581-4b02-e630-2ae22e6db7ea",
        "colab": {
          "base_uri": "https://localhost:8080/",
          "height": 55
        }
      },
      "source": [
        "print(vars(trn.examples[0]))"
      ],
      "execution_count": 0,
      "outputs": [
        {
          "output_type": "stream",
          "text": [
            "{'Sentiment': '1', 'SentimentText': ['amyrenea', 'omg', 'so', 'am', 'i', 'lol', 'i', 'fell', 'asleep', 'when', 'it', 'was', 'on', 'last', 'night', 'so', 'now', 'i', 'get', 'to', 'finish', 'it']}\n"
          ],
          "name": "stdout"
        }
      ]
    },
    {
      "cell_type": "code",
      "metadata": {
        "id": "QWVB_-hBCOw8",
        "colab_type": "code",
        "colab": {}
      },
      "source": [
        "TEXT.build_vocab(trn, max_size = 25000, vectors = 'glove.6B.100d', unk_init = torch.Tensor.normal_)\n",
        "LABEL.build_vocab(trn)"
      ],
      "execution_count": 0,
      "outputs": []
    },
    {
      "cell_type": "code",
      "metadata": {
        "id": "DJFYMphACvhr",
        "colab_type": "code",
        "outputId": "6144573a-1765-41ca-f026-ed9c7f554a93",
        "colab": {
          "base_uri": "https://localhost:8080/",
          "height": 35
        }
      },
      "source": [
        "print(LABEL.vocab.stoi)"
      ],
      "execution_count": 0,
      "outputs": [
        {
          "output_type": "stream",
          "text": [
            "defaultdict(<function _default_unk_index at 0x7f899abc82f0>, {'1': 0, '0': 1})\n"
          ],
          "name": "stdout"
        }
      ]
    },
    {
      "cell_type": "code",
      "metadata": {
        "id": "AW5XQf6ZDJXk",
        "colab_type": "code",
        "colab": {}
      },
      "source": [
        "batch_size = 64\n",
        "train_iterator, test_iterator = torchtext.data.BucketIterator.splits(\n",
        "    (trn, tst),\n",
        "    batch_size = batch_size,\n",
        "    sort_key = lambda x : len(x.SentimentText),\n",
        "    sort_within_batch = False\n",
        ")"
      ],
      "execution_count": 0,
      "outputs": []
    },
    {
      "cell_type": "markdown",
      "metadata": {
        "id": "RpA7mtPfDhF9",
        "colab_type": "text"
      },
      "source": [
        "# Model"
      ]
    },
    {
      "cell_type": "code",
      "metadata": {
        "id": "xtBWJqzQFJbd",
        "colab_type": "code",
        "colab": {}
      },
      "source": [
        "import torch.nn as nn"
      ],
      "execution_count": 0,
      "outputs": []
    },
    {
      "cell_type": "code",
      "metadata": {
        "id": "hrYpfExMDW-Y",
        "colab_type": "code",
        "colab": {}
      },
      "source": [
        "class RNN(nn.Module):\n",
        "  def __init__(self, vocab_size, embed, inp, hid, out, n_layers, bidirectional=True, dropout=dropout):\n",
        "    super().__init__()\n",
        "    self.embedding = nn.Embedding(embed, vocab_size)\n",
        "    self.rnn = nn.GRU(embed, hid, num_layers = n_layers,\n",
        "                        bidirectional = bidirectional, dropout = dropout)\n",
        "    self.fc = nn.Linear(hid*2, out)\n",
        "    self.dropout = nn.Dropout(dropout)\n",
        "  def forward(self, text):\n",
        "    embedded = self.dropout(self.embedding(text))\n",
        "    output, hidden = self.rnn(embedded)\n",
        "    hidden = self.dropout(torch.cat((hidden[-2,:,:], hidden[-1,:,:]), dim = 1))\n",
        "    return self.fc(hidden.squeeze(0))"
      ],
      "execution_count": 0,
      "outputs": []
    },
    {
      "cell_type": "code",
      "metadata": {
        "id": "JqeOgNW4FGj3",
        "colab_type": "code",
        "colab": {}
      },
      "source": [
        "inp = len(TEXT.vocab)\n",
        "embed = 100\n",
        "hid = 20\n",
        "out = 1\n",
        "n_layers = 2\n",
        "bidirectional = True\n",
        "dropout = True"
      ],
      "execution_count": 0,
      "outputs": []
    },
    {
      "cell_type": "code",
      "metadata": {
        "id": "wYpBlX_aFocH",
        "colab_type": "code",
        "colab": {}
      },
      "source": [
        "model = RNN(inp, bidirectional, embed=100, hid=20, out=1, n_layers=2, dropout=0.5)"
      ],
      "execution_count": 0,
      "outputs": []
    },
    {
      "cell_type": "code",
      "metadata": {
        "id": "CbfVSB3NIjVs",
        "colab_type": "code",
        "outputId": "d019df24-de29-4a5c-aa3f-8f613009b99f",
        "colab": {
          "base_uri": "https://localhost:8080/",
          "height": 126
        }
      },
      "source": [
        "model"
      ],
      "execution_count": 0,
      "outputs": [
        {
          "output_type": "execute_result",
          "data": {
            "text/plain": [
              "RNN(\n",
              "  (embedding): Embedding(25002, 100)\n",
              "  (rnn): GRU(25002, 1, dropout=0.5, bidirectional=True)\n",
              "  (fc): Linear(in_features=2, out_features=2, bias=True)\n",
              "  (dropout): Dropout(p=0.5, inplace=False)\n",
              ")"
            ]
          },
          "metadata": {
            "tags": []
          },
          "execution_count": 166
        }
      ]
    },
    {
      "cell_type": "code",
      "metadata": {
        "id": "DQaM_tSvJqfq",
        "colab_type": "code",
        "colab": {}
      },
      "source": [
        ""
      ],
      "execution_count": 0,
      "outputs": []
    }
  ]
}