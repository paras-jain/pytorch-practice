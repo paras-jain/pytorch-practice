{
  "nbformat": 4,
  "nbformat_minor": 0,
  "metadata": {
    "colab": {
      "name": "LinearRegressionSIngleNeuron.ipynb",
      "provenance": [],
      "collapsed_sections": [],
      "authorship_tag": "ABX9TyMN5WtND7rmr5jCCMwsPxyM"
    },
    "kernelspec": {
      "name": "python3",
      "display_name": "Python 3"
    },
    "accelerator": "GPU"
  },
  "cells": [
    {
      "cell_type": "markdown",
      "metadata": {
        "id": "gtjMlT5JjFey",
        "colab_type": "text"
      },
      "source": [
        "#Linear Regression with single neuron and autograd\n"
      ]
    },
    {
      "cell_type": "code",
      "metadata": {
        "id": "rjMMTelmHGDr",
        "colab_type": "code",
        "colab": {}
      },
      "source": [
        "import numpy as np\n",
        "import matplotlib.pyplot as plt"
      ],
      "execution_count": 0,
      "outputs": []
    },
    {
      "cell_type": "code",
      "metadata": {
        "id": "ve_dv7xHIT5S",
        "colab_type": "code",
        "colab": {}
      },
      "source": [
        "x_train = np.array([[4.3], [5], [9.6], [4.65], [6], [4], [6.3], [9.2], [4.2], [6.999], [9.6]], dtype= np.float32)\n",
        "y_train = np.array([[4.9], [7.49], [6], [7.889], [6.6], [5.6], [6.3], [8.69], [8], [5], [8]], dtype= np.float32)"
      ],
      "execution_count": 0,
      "outputs": []
    },
    {
      "cell_type": "code",
      "metadata": {
        "id": "Ne_S0mxwJgTu",
        "colab_type": "code",
        "outputId": "f74c7e9e-8c97-49f5-b5e0-daf1d0ed4a0a",
        "colab": {
          "base_uri": "https://localhost:8080/",
          "height": 483
        }
      },
      "source": [
        "plt.figure(figsize=(8,8))\n",
        "plt.scatter(x_train, y_train, c='green', s=250, label='Original Data')\n",
        "plt.show()"
      ],
      "execution_count": 77,
      "outputs": [
        {
          "output_type": "display_data",
          "data": {
            "image/png": "[encoded data removed]",
            "text/plain": [
              "<Figure size 576x576 with 1 Axes>"
            ]
          },
          "metadata": {
            "tags": [],
            "needs_background": "light"
          }
        }
      ]
    },
    {
      "cell_type": "code",
      "metadata": {
        "id": "bBvFxOyMKfaX",
        "colab_type": "code",
        "colab": {}
      },
      "source": [
        "import torch"
      ],
      "execution_count": 0,
      "outputs": []
    },
    {
      "cell_type": "code",
      "metadata": {
        "id": "ZIQmkfvaMo0j",
        "colab_type": "code",
        "outputId": "090a813d-df5b-4fb7-c0f3-dac4a6028dde",
        "colab": {
          "base_uri": "https://localhost:8080/",
          "height": 53
        }
      },
      "source": [
        "X_train = torch.from_numpy(x_train)\n",
        "Y_train = torch.from_numpy(y_train)\n",
        "print(\"X requires grad:\", X_train.requires_grad)\n",
        "print(\"Y requires grad:\", Y_train.requires_grad)"
      ],
      "execution_count": 79,
      "outputs": [
        {
          "output_type": "stream",
          "text": [
            "X requires grad: False\n",
            "Y requires grad: False\n"
          ],
          "name": "stdout"
        }
      ]
    },
    {
      "cell_type": "code",
      "metadata": {
        "id": "gi4QzKKpNCwn",
        "colab_type": "code",
        "colab": {}
      },
      "source": [
        "input_size = 1\n",
        "hidden_size = 1\n",
        "output_size = 1\n",
        "learning_rate = 0.001"
      ],
      "execution_count": 0,
      "outputs": []
    },
    {
      "cell_type": "code",
      "metadata": {
        "id": "t4Y7WXo_NUlJ",
        "colab_type": "code",
        "outputId": "fe16b287-bb60-457b-bc4e-db771c49b004",
        "colab": {
          "base_uri": "https://localhost:8080/",
          "height": 35
        }
      },
      "source": [
        "w1 = torch.rand(input_size,\n",
        "                hidden_size)\n",
        "w1.requires_autograd = True\n",
        "w1.shape"
      ],
      "execution_count": 81,
      "outputs": [
        {
          "output_type": "execute_result",
          "data": {
            "text/plain": [
              "torch.Size([1, 1])"
            ]
          },
          "metadata": {
            "tags": []
          },
          "execution_count": 81
        }
      ]
    },
    {
      "cell_type": "code",
      "metadata": {
        "id": "y4GkrH4sNsah",
        "colab_type": "code",
        "outputId": "ec90d421-dbc0-46b5-b6f1-fcbd4a7fed9c",
        "colab": {
          "base_uri": "https://localhost:8080/",
          "height": 35
        }
      },
      "source": [
        "b1 = torch.rand(input_size,\n",
        "                hidden_size)\n",
        "b1.requires_autograd = True\n",
        "b1.shape"
      ],
      "execution_count": 82,
      "outputs": [
        {
          "output_type": "execute_result",
          "data": {
            "text/plain": [
              "torch.Size([1, 1])"
            ]
          },
          "metadata": {
            "tags": []
          },
          "execution_count": 82
        }
      ]
    },
    {
      "cell_type": "code",
      "metadata": {
        "id": "BGISQRVrWOWj",
        "colab_type": "code",
        "outputId": "f033a323-95df-43a3-f5f2-a167f8d46863",
        "colab": {
          "base_uri": "https://localhost:8080/",
          "height": 35
        }
      },
      "source": [
        "print(w1, b1)"
      ],
      "execution_count": 83,
      "outputs": [
        {
          "output_type": "stream",
          "text": [
            "tensor([[0.0526]]) tensor([[0.5231]])\n"
          ],
          "name": "stdout"
        }
      ]
    },
    {
      "cell_type": "code",
      "metadata": {
        "id": "NNTgCwUibh9Y",
        "colab_type": "code",
        "colab": {}
      },
      "source": [
        "w1.requires_grad = True\n",
        "b1.requires_grad = True"
      ],
      "execution_count": 0,
      "outputs": []
    },
    {
      "cell_type": "markdown",
      "metadata": {
        "id": "CTTq67jbkOCK",
        "colab_type": "text"
      },
      "source": [
        "###Using ReLU to prevent overfitting"
      ]
    },
    {
      "cell_type": "code",
      "metadata": {
        "id": "Nj38kiTHWS3O",
        "colab_type": "code",
        "colab": {
          "base_uri": "https://localhost:8080/",
          "height": 1000
        },
        "outputId": "88f4d293-0d2f-42b6-f38f-8b3cf953ffc0"
      },
      "source": [
        "for i in range(1,7001):\n",
        "  y_pred = X_train.mm(w1).clamp(min=0).add(b1)\n",
        "  loss = (y_pred -Y_train).pow(2).sum()\n",
        "\n",
        "  if i % 100 == 0:\n",
        "    print(i , loss.item())\n",
        "\n",
        "  loss.backward()\n",
        "\n",
        "  with torch.no_grad():\n",
        "    w1 -= (learning_rate * w1.grad)\n",
        "    b1 -= (learning_rate * b1.grad)\n",
        "    w1.grad.zero_()\n",
        "    b1.grad.zero_()"
      ],
      "execution_count": 70,
      "outputs": [
        {
          "output_type": "stream",
          "text": [
            "100 32.92455291748047\n",
            "200 27.142696380615234\n",
            "300 23.37547492980957\n",
            "400 20.920913696289062\n",
            "500 19.321605682373047\n",
            "600 18.27956771850586\n",
            "700 17.60062026977539\n",
            "800 17.158241271972656\n",
            "900 16.87000846862793\n",
            "1000 16.682209014892578\n",
            "1100 16.559844970703125\n",
            "1200 16.480119705200195\n",
            "1300 16.428171157836914\n",
            "1400 16.394325256347656\n",
            "1500 16.372270584106445\n",
            "1600 16.35790252685547\n",
            "1700 16.348541259765625\n",
            "1800 16.34244155883789\n",
            "1900 16.33846664428711\n",
            "2000 16.335878372192383\n",
            "2100 16.334190368652344\n",
            "2200 16.333091735839844\n",
            "2300 16.332374572753906\n",
            "2400 16.3319091796875\n",
            "2500 16.331602096557617\n",
            "2600 16.331405639648438\n",
            "2700 16.331275939941406\n",
            "2800 16.33119010925293\n",
            "2900 16.331134796142578\n",
            "3000 16.33110237121582\n",
            "3100 16.331077575683594\n",
            "3200 16.33106231689453\n",
            "3300 16.3310546875\n",
            "3400 16.331045150756836\n",
            "3500 16.331043243408203\n",
            "3600 16.331043243408203\n",
            "3700 16.331037521362305\n",
            "3800 16.331037521362305\n",
            "3900 16.331035614013672\n",
            "4000 16.331035614013672\n",
            "4100 16.331037521362305\n",
            "4200 16.331035614013672\n",
            "4300 16.33103370666504\n",
            "4400 16.331035614013672\n",
            "4500 16.331035614013672\n",
            "4600 16.33103370666504\n",
            "4700 16.331035614013672\n",
            "4800 16.33103370666504\n",
            "4900 16.331035614013672\n",
            "5000 16.331035614013672\n",
            "5100 16.331035614013672\n",
            "5200 16.331035614013672\n",
            "5300 16.331035614013672\n",
            "5400 16.331035614013672\n",
            "5500 16.331035614013672\n",
            "5600 16.331035614013672\n",
            "5700 16.331035614013672\n",
            "5800 16.331035614013672\n",
            "5900 16.331035614013672\n",
            "6000 16.331035614013672\n",
            "6100 16.331035614013672\n",
            "6200 16.331035614013672\n",
            "6300 16.331035614013672\n",
            "6400 16.331035614013672\n",
            "6500 16.331035614013672\n",
            "6600 16.331035614013672\n",
            "6700 16.331035614013672\n",
            "6800 16.331035614013672\n",
            "6900 16.331035614013672\n",
            "7000 16.331035614013672\n"
          ],
          "name": "stdout"
        }
      ]
    },
    {
      "cell_type": "markdown",
      "metadata": {
        "id": "ACkl4v1hklqB",
        "colab_type": "text"
      },
      "source": [
        "###Using Ridge-Regression to prevent overfitting"
      ]
    },
    {
      "cell_type": "code",
      "metadata": {
        "id": "od1jU9Imkp_Y",
        "colab_type": "code",
        "colab": {}
      },
      "source": [
        "alpha = 0.8"
      ],
      "execution_count": 0,
      "outputs": []
    },
    {
      "cell_type": "code",
      "metadata": {
        "id": "AdxgEx-7ks8L",
        "colab_type": "code",
        "colab": {
          "base_uri": "https://localhost:8080/",
          "height": 1000
        },
        "outputId": "8b75ce3f-8ef3-47c3-938a-04210ae52160"
      },
      "source": [
        "for i in range(1,9001):\n",
        "  y_pred = X_train.mm(w1).add(b1)\n",
        "  ridge_reg_penalty = (w1 * w1)\n",
        "  loss = ((y_pred -Y_train).pow(2).sum()) + (alpha * ridge_reg_penalty)\n",
        "\n",
        "  if i % 100 == 0:\n",
        "    print(i , loss.item())\n",
        "\n",
        "  loss.backward()\n",
        "\n",
        "  with torch.no_grad():\n",
        "    w1 -= (learning_rate * w1.grad)\n",
        "    b1 -= (learning_rate * b1.grad)\n",
        "    w1.grad.zero_()\n",
        "    b1.grad.zero_()"
      ],
      "execution_count": 85,
      "outputs": [
        {
          "output_type": "stream",
          "text": [
            "100 36.10652160644531\n",
            "200 29.14010238647461\n",
            "300 24.629777908325195\n",
            "400 21.70960235595703\n",
            "500 19.818971633911133\n",
            "600 18.594911575317383\n",
            "700 17.802400588989258\n",
            "800 17.2893009185791\n",
            "900 16.957088470458984\n",
            "1000 16.742008209228516\n",
            "1100 16.602758407592773\n",
            "1200 16.512598037719727\n",
            "1300 16.45423126220703\n",
            "1400 16.41643714904785\n",
            "1500 16.3919677734375\n",
            "1600 16.37612533569336\n",
            "1700 16.36587142944336\n",
            "1800 16.359228134155273\n",
            "1900 16.354930877685547\n",
            "2000 16.352148056030273\n",
            "2100 16.350345611572266\n",
            "2200 16.349180221557617\n",
            "2300 16.34842300415039\n",
            "2400 16.347932815551758\n",
            "2500 16.347620010375977\n",
            "2600 16.347414016723633\n",
            "2700 16.34728240966797\n",
            "2800 16.34719467163086\n",
            "2900 16.347135543823242\n",
            "3000 16.34710121154785\n",
            "3100 16.347076416015625\n",
            "3200 16.347064971923828\n",
            "3300 16.34705352783203\n",
            "3400 16.347043991088867\n",
            "3500 16.3470458984375\n",
            "3600 16.347042083740234\n",
            "3700 16.3470401763916\n",
            "3800 16.347042083740234\n",
            "3900 16.347036361694336\n",
            "4000 16.347036361694336\n",
            "4100 16.34703826904297\n",
            "4200 16.347036361694336\n",
            "4300 16.34703826904297\n",
            "4400 16.347036361694336\n",
            "4500 16.347034454345703\n",
            "4600 16.347036361694336\n",
            "4700 16.347036361694336\n",
            "4800 16.34703826904297\n",
            "4900 16.34703826904297\n",
            "5000 16.347034454345703\n",
            "5100 16.347034454345703\n",
            "5200 16.347034454345703\n",
            "5300 16.347034454345703\n",
            "5400 16.347034454345703\n",
            "5500 16.347034454345703\n",
            "5600 16.347034454345703\n",
            "5700 16.347034454345703\n",
            "5800 16.347034454345703\n",
            "5900 16.347034454345703\n",
            "6000 16.347034454345703\n",
            "6100 16.347034454345703\n",
            "6200 16.347034454345703\n",
            "6300 16.347034454345703\n",
            "6400 16.347034454345703\n",
            "6500 16.347034454345703\n",
            "6600 16.347034454345703\n",
            "6700 16.347034454345703\n",
            "6800 16.347034454345703\n",
            "6900 16.347034454345703\n",
            "7000 16.347034454345703\n",
            "7100 16.347034454345703\n",
            "7200 16.347034454345703\n",
            "7300 16.347034454345703\n",
            "7400 16.347034454345703\n",
            "7500 16.347034454345703\n",
            "7600 16.347034454345703\n",
            "7700 16.347034454345703\n",
            "7800 16.347034454345703\n",
            "7900 16.347034454345703\n",
            "8000 16.347034454345703\n",
            "8100 16.347034454345703\n",
            "8200 16.347034454345703\n",
            "8300 16.347034454345703\n",
            "8400 16.347034454345703\n",
            "8500 16.347034454345703\n",
            "8600 16.347034454345703\n",
            "8700 16.347034454345703\n",
            "8800 16.347034454345703\n",
            "8900 16.347034454345703\n",
            "9000 16.347034454345703\n"
          ],
          "name": "stdout"
        }
      ]
    },
    {
      "cell_type": "code",
      "metadata": {
        "id": "8w5lqc9_m2ai",
        "colab_type": "code",
        "colab": {
          "base_uri": "https://localhost:8080/",
          "height": 53
        },
        "outputId": "285e94f4-4723-48d0-9a2b-c1b9290061e0"
      },
      "source": [
        "print(\"For Ridge-Regression model:\")\n",
        "print(w1, b1)"
      ],
      "execution_count": 86,
      "outputs": [
        {
          "output_type": "stream",
          "text": [
            "For Ridge-Regression model:\n",
            "tensor([[0.1403]], requires_grad=True) tensor([[5.8790]], requires_grad=True)\n"
          ],
          "name": "stdout"
        }
      ]
    },
    {
      "cell_type": "code",
      "metadata": {
        "id": "vi_6eIiUiSqu",
        "colab_type": "code",
        "colab": {
          "base_uri": "https://localhost:8080/",
          "height": 53
        },
        "outputId": "d4c2c43b-09de-4122-f663-ea32c0a8f75a"
      },
      "source": [
        "print(\"For ReLU model:\")\n",
        "print(w1, b1)"
      ],
      "execution_count": 71,
      "outputs": [
        {
          "output_type": "stream",
          "text": [
            "For ReLU model:\n",
            "tensor([[0.1426]], requires_grad=True) tensor([[5.8644]], requires_grad=True)\n"
          ],
          "name": "stdout"
        }
      ]
    },
    {
      "cell_type": "code",
      "metadata": {
        "id": "fDSFQnbFXe0e",
        "colab_type": "code",
        "colab": {
          "base_uri": "https://localhost:8080/",
          "height": 217
        },
        "outputId": "cb60fd13-d964-4379-bbbb-f406e7c114e9"
      },
      "source": [
        "x_train_tensor = torch.from_numpy(x_train)\n",
        "x_train_tensor"
      ],
      "execution_count": 36,
      "outputs": [
        {
          "output_type": "execute_result",
          "data": {
            "text/plain": [
              "tensor([[4.3000],\n",
              "        [5.0000],\n",
              "        [9.6000],\n",
              "        [4.6500],\n",
              "        [6.0000],\n",
              "        [4.0000],\n",
              "        [6.3000],\n",
              "        [9.2000],\n",
              "        [4.2000],\n",
              "        [6.9990],\n",
              "        [9.6000]])"
            ]
          },
          "metadata": {
            "tags": []
          },
          "execution_count": 36
        }
      ]
    },
    {
      "cell_type": "code",
      "metadata": {
        "id": "9dw3qEbUgUt7",
        "colab_type": "code",
        "colab": {
          "base_uri": "https://localhost:8080/",
          "height": 217
        },
        "outputId": "918d7a9c-cd7e-45dc-f510-d67f6d4323b6"
      },
      "source": [
        "predicted_in_tensor = x_train_tensor.mm(w1).clamp(min=0).add(b1)\n",
        "predicted_in_tensor"
      ],
      "execution_count": 39,
      "outputs": [
        {
          "output_type": "execute_result",
          "data": {
            "text/plain": [
              "tensor([[6.4776],\n",
              "        [6.5774],\n",
              "        [7.2333],\n",
              "        [6.5275],\n",
              "        [6.7200],\n",
              "        [6.4348],\n",
              "        [6.7628],\n",
              "        [7.1763],\n",
              "        [6.4633],\n",
              "        [6.8625],\n",
              "        [7.2333]], grad_fn=<AddBackward0>)"
            ]
          },
          "metadata": {
            "tags": []
          },
          "execution_count": 39
        }
      ]
    },
    {
      "cell_type": "code",
      "metadata": {
        "id": "A8Hdu36Ogmlm",
        "colab_type": "code",
        "colab": {
          "base_uri": "https://localhost:8080/",
          "height": 217
        },
        "outputId": "da38c6fe-8885-428e-ee6a-58f4ab19b784"
      },
      "source": [
        "predicted = predicted_in_tensor.detach().numpy()\n",
        "predicted"
      ],
      "execution_count": 40,
      "outputs": [
        {
          "output_type": "execute_result",
          "data": {
            "text/plain": [
              "array([[6.4775944],\n",
              "       [6.5774097],\n",
              "       [7.2333403],\n",
              "       [6.527502 ],\n",
              "       [6.720003 ],\n",
              "       [6.4348164],\n",
              "       [6.7627816],\n",
              "       [7.176303 ],\n",
              "       [6.463335 ],\n",
              "       [6.8624544],\n",
              "       [7.2333403]], dtype=float32)"
            ]
          },
          "metadata": {
            "tags": []
          },
          "execution_count": 40
        }
      ]
    },
    {
      "cell_type": "code",
      "metadata": {
        "id": "nOIIhQ0rg7pk",
        "colab_type": "code",
        "colab": {
          "base_uri": "https://localhost:8080/",
          "height": 483
        },
        "outputId": "59fa0e41-2eb5-4683-a332-4306a591e0f7"
      },
      "source": [
        "plt.figure(figsize=(8,8))\n",
        "plt.scatter(x_train, y_train, c='green', s=250, label='Original Data')\n",
        "plt.plot(x_train, predicted, label = 'fitted line')\n",
        "plt.legend()\n",
        "plt.show()"
      ],
      "execution_count": 50,
      "outputs": [
        {
          "output_type": "display_data",
          "data": {
            "image/png": "[encoded data removed]",
            "text/plain": [
              "<Figure size 576x576 with 1 Axes>"
            ]
          },
          "metadata": {
            "tags": [],
            "needs_background": "light"
          }
        }
      ]
    },
    {
      "cell_type": "markdown",
      "metadata": {
        "id": "hr3jcpy-hpuP",
        "colab_type": "text"
      },
      "source": [
        "#Comparing with `sklearn`"
      ]
    },
    {
      "cell_type": "code",
      "metadata": {
        "id": "8EtBqra2hZnS",
        "colab_type": "code",
        "colab": {}
      },
      "source": [
        "import sklearn\n",
        "from sklearn.linear_model import LinearRegression"
      ],
      "execution_count": 0,
      "outputs": []
    },
    {
      "cell_type": "code",
      "metadata": {
        "id": "xPEtdpfFh5wc",
        "colab_type": "code",
        "colab": {}
      },
      "source": [
        "reg = LinearRegression().fit(x_train, y_train)"
      ],
      "execution_count": 0,
      "outputs": []
    },
    {
      "cell_type": "code",
      "metadata": {
        "id": "tiNuR2aCiGnX",
        "colab_type": "code",
        "colab": {
          "base_uri": "https://localhost:8080/",
          "height": 35
        },
        "outputId": "93bf4bc0-1f33-4af1-9a20-dc9171cc622b"
      },
      "source": [
        "print(\"w1 with sklearn: \", reg.coef_)"
      ],
      "execution_count": 44,
      "outputs": [
        {
          "output_type": "stream",
          "text": [
            "w1 with sklearn:  [[0.14257814]]\n"
          ],
          "name": "stdout"
        }
      ]
    },
    {
      "cell_type": "code",
      "metadata": {
        "id": "7sGuXL6uiOh4",
        "colab_type": "code",
        "colab": {
          "base_uri": "https://localhost:8080/",
          "height": 35
        },
        "outputId": "2ade8250-2260-417d-84d5-0f0f977d3e00"
      },
      "source": [
        "print(\"b1 with sklearn: \", reg.intercept_)"
      ],
      "execution_count": 46,
      "outputs": [
        {
          "output_type": "stream",
          "text": [
            "b1 with sklearn:  [5.86455]\n"
          ],
          "name": "stdout"
        }
      ]
    },
    {
      "cell_type": "code",
      "metadata": {
        "id": "0SoCJV1kihfs",
        "colab_type": "code",
        "colab": {
          "base_uri": "https://localhost:8080/",
          "height": 217
        },
        "outputId": "9f753b73-62ca-4858-8af9-c80c039969ab"
      },
      "source": [
        "predict = reg.predict(x_train)\n",
        "predict"
      ],
      "execution_count": 47,
      "outputs": [
        {
          "output_type": "execute_result",
          "data": {
            "text/plain": [
              "array([[6.4776363],\n",
              "       [6.5774407],\n",
              "       [7.2333   ],\n",
              "       [6.5275383],\n",
              "       [6.720019 ],\n",
              "       [6.4348626],\n",
              "       [6.7627926],\n",
              "       [7.176269 ],\n",
              "       [6.4633784],\n",
              "       [6.8624544],\n",
              "       [7.2333   ]], dtype=float32)"
            ]
          },
          "metadata": {
            "tags": []
          },
          "execution_count": 47
        }
      ]
    },
    {
      "cell_type": "code",
      "metadata": {
        "id": "YxJDFYodiq95",
        "colab_type": "code",
        "colab": {
          "base_uri": "https://localhost:8080/",
          "height": 483
        },
        "outputId": "b45aedd2-cad3-48a8-a4d5-c3389b6a14ac"
      },
      "source": [
        "plt.figure(figsize=(8,8))\n",
        "plt.scatter(x_train, y_train, c='green', s=250, label='Original Data')\n",
        "plt.plot(x_train, predict, label = 'fitted line')\n",
        "plt.legend()\n",
        "plt.show()"
      ],
      "execution_count": 49,
      "outputs": [
        {
          "output_type": "display_data",
          "data": {
            "image/png": "[encoded data removed]",
            "text/plain": [
              "<Figure size 576x576 with 1 Axes>"
            ]
          },
          "metadata": {
            "tags": [],
            "needs_background": "light"
          }
        }
      ]
    },
    {
      "cell_type": "markdown",
      "metadata": {
        "id": "0b1avhbxla6C",
        "colab_type": "text"
      },
      "source": [
        "### Using `sklearn`'s Ridge model"
      ]
    },
    {
      "cell_type": "code",
      "metadata": {
        "id": "mz5tLWa_i29e",
        "colab_type": "code",
        "colab": {}
      },
      "source": [
        "from sklearn.linear_model import Ridge"
      ],
      "execution_count": 0,
      "outputs": []
    },
    {
      "cell_type": "code",
      "metadata": {
        "id": "V_hPPKOHlqjW",
        "colab_type": "code",
        "colab": {}
      },
      "source": [
        "ridge_model = Ridge()"
      ],
      "execution_count": 0,
      "outputs": []
    },
    {
      "cell_type": "code",
      "metadata": {
        "id": "wP92_oTiltYL",
        "colab_type": "code",
        "colab": {}
      },
      "source": [
        "reg_ridge = ridge_model.fit(x_train, y_train)"
      ],
      "execution_count": 0,
      "outputs": []
    },
    {
      "cell_type": "code",
      "metadata": {
        "id": "CGx0-82nl-yS",
        "colab_type": "code",
        "colab": {
          "base_uri": "https://localhost:8080/",
          "height": 35
        },
        "outputId": "68ad68d1-0872-465c-8853-83aa37d314dd"
      },
      "source": [
        "print(\"w1 with sklearn ridge: \", ridge_model.coef_)"
      ],
      "execution_count": 57,
      "outputs": [
        {
          "output_type": "stream",
          "text": [
            "w1 with sklearn ridge:  [[0.13971816]]\n"
          ],
          "name": "stdout"
        }
      ]
    },
    {
      "cell_type": "code",
      "metadata": {
        "id": "YqCBYb-zmMWq",
        "colab_type": "code",
        "colab": {
          "base_uri": "https://localhost:8080/",
          "height": 35
        },
        "outputId": "974f926f-5775-4a73-98fa-ea6a51cac335"
      },
      "source": [
        "print(\"b1 with sklearn ridge: \", ridge_model.coef_)"
      ],
      "execution_count": 58,
      "outputs": [
        {
          "output_type": "stream",
          "text": [
            "b1 with sklearn ridge:  [[0.13971816]]\n"
          ],
          "name": "stdout"
        }
      ]
    },
    {
      "cell_type": "code",
      "metadata": {
        "id": "iu6KbMcKmPuS",
        "colab_type": "code",
        "colab": {}
      },
      "source": [
        ""
      ],
      "execution_count": 0,
      "outputs": []
    }
  ]
}